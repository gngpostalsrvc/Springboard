{
 "cells": [
  {
   "cell_type": "markdown",
   "id": "e3e25d36",
   "metadata": {},
   "source": [
    "Approximately 12% of the users in the database have adopted Relax. To better understand their motivations for doing so, I first visualized the effect of five variables on adoption rate using a series of bar charts: 1) whether the user had opted into marketing emails from relax; 2) whether they were on the regular marketing email drip; 3) how they created their account; 4) their primary email provider; and 5) the year they created their account. These charts (fig. 1) underline the importance of variables 3 and 5 for understanding adoption rate: users who received a private invitation to the service adopted Relax at a significantly lower rate (~6.5%) than users who came to the service through other modalities . Similarly, only 6% of users who signed up in 2014 had adopted Relax, compared to 14% of users who signed up in 2013 and 14.5% of users who signed up in 2012. These results received further confirmation from predictive modeling. The two most important features of the Random Forest Classifier I trained were whether a user signed up in 2014 and whether they received a private invitation (fig. 2)\n",
    "\n",
    "Further avenues for investigation include analyzing the role of organizational affiliation and invitation on adoption rate and exploring other explanations for the decrease in adoption rate after 2013. It is possible, for example, that the 2014 decline in adoption rates is illusory. If it takes an average of a  year or so for users to adopt the service, then the users who signed up in 2014 may not have had enough time to become habitual users at the same rate as their counterparts in previous years. "
   ]
  },
  {
   "cell_type": "code",
   "execution_count": 65,
   "id": "1a919ef2",
   "metadata": {},
   "outputs": [],
   "source": [
    "#import the necessary packages\n",
    "import warnings\n",
    "import numpy as np\n",
    "import pandas as pd\n",
    "import re\n",
    "import matplotlib.pyplot as plt\n",
    "import seaborn as sns\n",
    "import datetime as dt\n",
    "from collections import Counter\n",
    "from sklearn.model_selection import train_test_split, cross_val_score\n",
    "from sklearn.ensemble import RandomForestClassifier\n",
    "from sklearn.metrics import confusion_matrix\n",
    "from sklearn.inspection import permutation_importance\n",
    "from hyperopt import tpe, hp, fmin, STATUS_OK, Trials \n",
    "from imblearn.over_sampling import SMOTE\n",
    "from imblearn.pipeline import make_pipeline\n",
    "\n",
    "warnings.filterwarnings('ignore')"
   ]
  },
  {
   "cell_type": "code",
   "execution_count": 2,
   "id": "8ac52c12",
   "metadata": {},
   "outputs": [
    {
     "data": {
      "text/html": [
       "<div>\n",
       "<style scoped>\n",
       "    .dataframe tbody tr th:only-of-type {\n",
       "        vertical-align: middle;\n",
       "    }\n",
       "\n",
       "    .dataframe tbody tr th {\n",
       "        vertical-align: top;\n",
       "    }\n",
       "\n",
       "    .dataframe thead th {\n",
       "        text-align: right;\n",
       "    }\n",
       "</style>\n",
       "<table border=\"1\" class=\"dataframe\">\n",
       "  <thead>\n",
       "    <tr style=\"text-align: right;\">\n",
       "      <th></th>\n",
       "      <th>creation_time</th>\n",
       "      <th>name</th>\n",
       "      <th>email</th>\n",
       "      <th>creation_source</th>\n",
       "      <th>last_session_creation_time</th>\n",
       "      <th>opted_in_to_mailing_list</th>\n",
       "      <th>enabled_for_marketing_drip</th>\n",
       "      <th>org_id</th>\n",
       "      <th>invited_by_user_id</th>\n",
       "    </tr>\n",
       "    <tr>\n",
       "      <th>object_id</th>\n",
       "      <th></th>\n",
       "      <th></th>\n",
       "      <th></th>\n",
       "      <th></th>\n",
       "      <th></th>\n",
       "      <th></th>\n",
       "      <th></th>\n",
       "      <th></th>\n",
       "      <th></th>\n",
       "    </tr>\n",
       "  </thead>\n",
       "  <tbody>\n",
       "    <tr>\n",
       "      <th>1</th>\n",
       "      <td>2014-04-22 03:53:30</td>\n",
       "      <td>Clausen August</td>\n",
       "      <td>AugustCClausen@yahoo.com</td>\n",
       "      <td>GUEST_INVITE</td>\n",
       "      <td>1.398139e+09</td>\n",
       "      <td>1</td>\n",
       "      <td>0</td>\n",
       "      <td>11</td>\n",
       "      <td>10803.0</td>\n",
       "    </tr>\n",
       "    <tr>\n",
       "      <th>2</th>\n",
       "      <td>2013-11-15 03:45:04</td>\n",
       "      <td>Poole Matthew</td>\n",
       "      <td>MatthewPoole@gustr.com</td>\n",
       "      <td>ORG_INVITE</td>\n",
       "      <td>1.396238e+09</td>\n",
       "      <td>0</td>\n",
       "      <td>0</td>\n",
       "      <td>1</td>\n",
       "      <td>316.0</td>\n",
       "    </tr>\n",
       "    <tr>\n",
       "      <th>3</th>\n",
       "      <td>2013-03-19 23:14:52</td>\n",
       "      <td>Bottrill Mitchell</td>\n",
       "      <td>MitchellBottrill@gustr.com</td>\n",
       "      <td>ORG_INVITE</td>\n",
       "      <td>1.363735e+09</td>\n",
       "      <td>0</td>\n",
       "      <td>0</td>\n",
       "      <td>94</td>\n",
       "      <td>1525.0</td>\n",
       "    </tr>\n",
       "    <tr>\n",
       "      <th>4</th>\n",
       "      <td>2013-05-21 08:09:28</td>\n",
       "      <td>Clausen Nicklas</td>\n",
       "      <td>NicklasSClausen@yahoo.com</td>\n",
       "      <td>GUEST_INVITE</td>\n",
       "      <td>1.369210e+09</td>\n",
       "      <td>0</td>\n",
       "      <td>0</td>\n",
       "      <td>1</td>\n",
       "      <td>5151.0</td>\n",
       "    </tr>\n",
       "    <tr>\n",
       "      <th>5</th>\n",
       "      <td>2013-01-17 10:14:20</td>\n",
       "      <td>Raw Grace</td>\n",
       "      <td>GraceRaw@yahoo.com</td>\n",
       "      <td>GUEST_INVITE</td>\n",
       "      <td>1.358850e+09</td>\n",
       "      <td>0</td>\n",
       "      <td>0</td>\n",
       "      <td>193</td>\n",
       "      <td>5240.0</td>\n",
       "    </tr>\n",
       "  </tbody>\n",
       "</table>\n",
       "</div>"
      ],
      "text/plain": [
       "                 creation_time               name                       email  \\\n",
       "object_id                                                                       \n",
       "1          2014-04-22 03:53:30     Clausen August    AugustCClausen@yahoo.com   \n",
       "2          2013-11-15 03:45:04      Poole Matthew      MatthewPoole@gustr.com   \n",
       "3          2013-03-19 23:14:52  Bottrill Mitchell  MitchellBottrill@gustr.com   \n",
       "4          2013-05-21 08:09:28    Clausen Nicklas   NicklasSClausen@yahoo.com   \n",
       "5          2013-01-17 10:14:20          Raw Grace          GraceRaw@yahoo.com   \n",
       "\n",
       "          creation_source  last_session_creation_time  \\\n",
       "object_id                                               \n",
       "1            GUEST_INVITE                1.398139e+09   \n",
       "2              ORG_INVITE                1.396238e+09   \n",
       "3              ORG_INVITE                1.363735e+09   \n",
       "4            GUEST_INVITE                1.369210e+09   \n",
       "5            GUEST_INVITE                1.358850e+09   \n",
       "\n",
       "           opted_in_to_mailing_list  enabled_for_marketing_drip  org_id  \\\n",
       "object_id                                                                 \n",
       "1                                 1                           0      11   \n",
       "2                                 0                           0       1   \n",
       "3                                 0                           0      94   \n",
       "4                                 0                           0       1   \n",
       "5                                 0                           0     193   \n",
       "\n",
       "           invited_by_user_id  \n",
       "object_id                      \n",
       "1                     10803.0  \n",
       "2                       316.0  \n",
       "3                      1525.0  \n",
       "4                      5151.0  \n",
       "5                      5240.0  "
      ]
     },
     "execution_count": 2,
     "metadata": {},
     "output_type": "execute_result"
    }
   ],
   "source": [
    "#load the data\n",
    "df_users = pd.read_csv('takehome_users.csv', encoding='latin-1', index_col='object_id')\n",
    "\n",
    "df_users.head()"
   ]
  },
  {
   "cell_type": "code",
   "execution_count": 3,
   "id": "f4855f05",
   "metadata": {},
   "outputs": [
    {
     "data": {
      "text/html": [
       "<div>\n",
       "<style scoped>\n",
       "    .dataframe tbody tr th:only-of-type {\n",
       "        vertical-align: middle;\n",
       "    }\n",
       "\n",
       "    .dataframe tbody tr th {\n",
       "        vertical-align: top;\n",
       "    }\n",
       "\n",
       "    .dataframe thead th {\n",
       "        text-align: right;\n",
       "    }\n",
       "</style>\n",
       "<table border=\"1\" class=\"dataframe\">\n",
       "  <thead>\n",
       "    <tr style=\"text-align: right;\">\n",
       "      <th></th>\n",
       "      <th>time_stamp</th>\n",
       "      <th>user_id</th>\n",
       "      <th>visited</th>\n",
       "    </tr>\n",
       "  </thead>\n",
       "  <tbody>\n",
       "    <tr>\n",
       "      <th>0</th>\n",
       "      <td>2014-04-22 03:53:30</td>\n",
       "      <td>1</td>\n",
       "      <td>1</td>\n",
       "    </tr>\n",
       "    <tr>\n",
       "      <th>1</th>\n",
       "      <td>2013-11-15 03:45:04</td>\n",
       "      <td>2</td>\n",
       "      <td>1</td>\n",
       "    </tr>\n",
       "    <tr>\n",
       "      <th>2</th>\n",
       "      <td>2013-11-29 03:45:04</td>\n",
       "      <td>2</td>\n",
       "      <td>1</td>\n",
       "    </tr>\n",
       "    <tr>\n",
       "      <th>3</th>\n",
       "      <td>2013-12-09 03:45:04</td>\n",
       "      <td>2</td>\n",
       "      <td>1</td>\n",
       "    </tr>\n",
       "    <tr>\n",
       "      <th>4</th>\n",
       "      <td>2013-12-25 03:45:04</td>\n",
       "      <td>2</td>\n",
       "      <td>1</td>\n",
       "    </tr>\n",
       "  </tbody>\n",
       "</table>\n",
       "</div>"
      ],
      "text/plain": [
       "            time_stamp  user_id  visited\n",
       "0  2014-04-22 03:53:30        1        1\n",
       "1  2013-11-15 03:45:04        2        1\n",
       "2  2013-11-29 03:45:04        2        1\n",
       "3  2013-12-09 03:45:04        2        1\n",
       "4  2013-12-25 03:45:04        2        1"
      ]
     },
     "execution_count": 3,
     "metadata": {},
     "output_type": "execute_result"
    }
   ],
   "source": [
    "df_engagement = pd.read_csv('takehome_user_engagement.csv')\n",
    "\n",
    "df_engagement.head()"
   ]
  },
  {
   "cell_type": "code",
   "execution_count": 4,
   "id": "45803016",
   "metadata": {},
   "outputs": [
    {
     "data": {
      "text/plain": [
       "creation_time                  object\n",
       "name                           object\n",
       "email                          object\n",
       "creation_source                object\n",
       "last_session_creation_time    float64\n",
       "opted_in_to_mailing_list        int64\n",
       "enabled_for_marketing_drip      int64\n",
       "org_id                          int64\n",
       "invited_by_user_id            float64\n",
       "dtype: object"
      ]
     },
     "execution_count": 4,
     "metadata": {},
     "output_type": "execute_result"
    }
   ],
   "source": [
    "#check datatypes\n",
    "df_users.dtypes"
   ]
  },
  {
   "cell_type": "code",
   "execution_count": 5,
   "id": "566b645a",
   "metadata": {},
   "outputs": [
    {
     "data": {
      "text/plain": [
       "time_stamp    object\n",
       "user_id        int64\n",
       "visited        int64\n",
       "dtype: object"
      ]
     },
     "execution_count": 5,
     "metadata": {},
     "output_type": "execute_result"
    }
   ],
   "source": [
    "df_engagement.dtypes"
   ]
  },
  {
   "cell_type": "code",
   "execution_count": 6,
   "id": "2554a041",
   "metadata": {},
   "outputs": [],
   "source": [
    "#rearrange and update datatypes\n",
    "df_engagement = df_engagement.sort_values(by = 'time_stamp').reset_index(drop=True)"
   ]
  },
  {
   "cell_type": "code",
   "execution_count": 7,
   "id": "eb7f1ab4",
   "metadata": {},
   "outputs": [],
   "source": [
    "df_engagement['time_stamp'] = pd.to_datetime(df_engagement['time_stamp'])"
   ]
  },
  {
   "cell_type": "code",
   "execution_count": 133,
   "id": "b5ef874c",
   "metadata": {},
   "outputs": [
    {
     "data": {
      "text/html": [
       "<div>\n",
       "<style scoped>\n",
       "    .dataframe tbody tr th:only-of-type {\n",
       "        vertical-align: middle;\n",
       "    }\n",
       "\n",
       "    .dataframe tbody tr th {\n",
       "        vertical-align: top;\n",
       "    }\n",
       "\n",
       "    .dataframe thead th {\n",
       "        text-align: right;\n",
       "    }\n",
       "</style>\n",
       "<table border=\"1\" class=\"dataframe\">\n",
       "  <thead>\n",
       "    <tr style=\"text-align: right;\">\n",
       "      <th></th>\n",
       "      <th>time_stamp</th>\n",
       "      <th>user_id</th>\n",
       "      <th>visited</th>\n",
       "      <th>week</th>\n",
       "    </tr>\n",
       "  </thead>\n",
       "  <tbody>\n",
       "    <tr>\n",
       "      <th>0</th>\n",
       "      <td>2012-05-31 08:20:06</td>\n",
       "      <td>10012</td>\n",
       "      <td>1</td>\n",
       "      <td>(2012, 22)</td>\n",
       "    </tr>\n",
       "    <tr>\n",
       "      <th>1</th>\n",
       "      <td>2012-05-31 15:47:36</td>\n",
       "      <td>3428</td>\n",
       "      <td>1</td>\n",
       "      <td>(2012, 22)</td>\n",
       "    </tr>\n",
       "    <tr>\n",
       "      <th>2</th>\n",
       "      <td>2012-05-31 17:19:37</td>\n",
       "      <td>9899</td>\n",
       "      <td>1</td>\n",
       "      <td>(2012, 22)</td>\n",
       "    </tr>\n",
       "    <tr>\n",
       "      <th>3</th>\n",
       "      <td>2012-05-31 21:58:33</td>\n",
       "      <td>1693</td>\n",
       "      <td>1</td>\n",
       "      <td>(2012, 22)</td>\n",
       "    </tr>\n",
       "    <tr>\n",
       "      <th>4</th>\n",
       "      <td>2012-06-01 00:17:30</td>\n",
       "      <td>6102</td>\n",
       "      <td>1</td>\n",
       "      <td>(2012, 22)</td>\n",
       "    </tr>\n",
       "  </tbody>\n",
       "</table>\n",
       "</div>"
      ],
      "text/plain": [
       "           time_stamp  user_id  visited        week\n",
       "0 2012-05-31 08:20:06    10012        1  (2012, 22)\n",
       "1 2012-05-31 15:47:36     3428        1  (2012, 22)\n",
       "2 2012-05-31 17:19:37     9899        1  (2012, 22)\n",
       "3 2012-05-31 21:58:33     1693        1  (2012, 22)\n",
       "4 2012-06-01 00:17:30     6102        1  (2012, 22)"
      ]
     },
     "execution_count": 133,
     "metadata": {},
     "output_type": "execute_result"
    }
   ],
   "source": [
    "df_engagement.head()"
   ]
  },
  {
   "cell_type": "code",
   "execution_count": 9,
   "id": "700c7614",
   "metadata": {},
   "outputs": [],
   "source": [
    "#create a column indicating whether the user has adopted relax or not\n",
    "df_engagement['week'] = df_engagement['time_stamp'].apply(lambda x : x.isocalendar()[0:2])"
   ]
  },
  {
   "cell_type": "code",
   "execution_count": 10,
   "id": "6a5b340e",
   "metadata": {},
   "outputs": [],
   "source": [
    "df_agg = df_engagement.pivot_table(values='visited', index='week', columns='user_id', aggfunc='sum')"
   ]
  },
  {
   "cell_type": "code",
   "execution_count": 11,
   "id": "45e4152b",
   "metadata": {},
   "outputs": [],
   "source": [
    "df_users['max_logins'] = df_agg.max()"
   ]
  },
  {
   "cell_type": "code",
   "execution_count": 12,
   "id": "f084cdda",
   "metadata": {},
   "outputs": [],
   "source": [
    "df_users['adopted'] = df_users['max_logins'] >= 3"
   ]
  },
  {
   "cell_type": "code",
   "execution_count": 13,
   "id": "456a2ad4",
   "metadata": {},
   "outputs": [
    {
     "data": {
      "text/html": [
       "<div>\n",
       "<style scoped>\n",
       "    .dataframe tbody tr th:only-of-type {\n",
       "        vertical-align: middle;\n",
       "    }\n",
       "\n",
       "    .dataframe tbody tr th {\n",
       "        vertical-align: top;\n",
       "    }\n",
       "\n",
       "    .dataframe thead th {\n",
       "        text-align: right;\n",
       "    }\n",
       "</style>\n",
       "<table border=\"1\" class=\"dataframe\">\n",
       "  <thead>\n",
       "    <tr style=\"text-align: right;\">\n",
       "      <th></th>\n",
       "      <th>creation_time</th>\n",
       "      <th>name</th>\n",
       "      <th>email</th>\n",
       "      <th>creation_source</th>\n",
       "      <th>last_session_creation_time</th>\n",
       "      <th>opted_in_to_mailing_list</th>\n",
       "      <th>enabled_for_marketing_drip</th>\n",
       "      <th>org_id</th>\n",
       "      <th>invited_by_user_id</th>\n",
       "      <th>max_logins</th>\n",
       "      <th>adopted</th>\n",
       "    </tr>\n",
       "    <tr>\n",
       "      <th>object_id</th>\n",
       "      <th></th>\n",
       "      <th></th>\n",
       "      <th></th>\n",
       "      <th></th>\n",
       "      <th></th>\n",
       "      <th></th>\n",
       "      <th></th>\n",
       "      <th></th>\n",
       "      <th></th>\n",
       "      <th></th>\n",
       "      <th></th>\n",
       "    </tr>\n",
       "  </thead>\n",
       "  <tbody>\n",
       "    <tr>\n",
       "      <th>1</th>\n",
       "      <td>2014-04-22 03:53:30</td>\n",
       "      <td>Clausen August</td>\n",
       "      <td>AugustCClausen@yahoo.com</td>\n",
       "      <td>GUEST_INVITE</td>\n",
       "      <td>1.398139e+09</td>\n",
       "      <td>1</td>\n",
       "      <td>0</td>\n",
       "      <td>11</td>\n",
       "      <td>10803.0</td>\n",
       "      <td>1.0</td>\n",
       "      <td>False</td>\n",
       "    </tr>\n",
       "    <tr>\n",
       "      <th>2</th>\n",
       "      <td>2013-11-15 03:45:04</td>\n",
       "      <td>Poole Matthew</td>\n",
       "      <td>MatthewPoole@gustr.com</td>\n",
       "      <td>ORG_INVITE</td>\n",
       "      <td>1.396238e+09</td>\n",
       "      <td>0</td>\n",
       "      <td>0</td>\n",
       "      <td>1</td>\n",
       "      <td>316.0</td>\n",
       "      <td>3.0</td>\n",
       "      <td>True</td>\n",
       "    </tr>\n",
       "    <tr>\n",
       "      <th>3</th>\n",
       "      <td>2013-03-19 23:14:52</td>\n",
       "      <td>Bottrill Mitchell</td>\n",
       "      <td>MitchellBottrill@gustr.com</td>\n",
       "      <td>ORG_INVITE</td>\n",
       "      <td>1.363735e+09</td>\n",
       "      <td>0</td>\n",
       "      <td>0</td>\n",
       "      <td>94</td>\n",
       "      <td>1525.0</td>\n",
       "      <td>1.0</td>\n",
       "      <td>False</td>\n",
       "    </tr>\n",
       "    <tr>\n",
       "      <th>4</th>\n",
       "      <td>2013-05-21 08:09:28</td>\n",
       "      <td>Clausen Nicklas</td>\n",
       "      <td>NicklasSClausen@yahoo.com</td>\n",
       "      <td>GUEST_INVITE</td>\n",
       "      <td>1.369210e+09</td>\n",
       "      <td>0</td>\n",
       "      <td>0</td>\n",
       "      <td>1</td>\n",
       "      <td>5151.0</td>\n",
       "      <td>1.0</td>\n",
       "      <td>False</td>\n",
       "    </tr>\n",
       "    <tr>\n",
       "      <th>5</th>\n",
       "      <td>2013-01-17 10:14:20</td>\n",
       "      <td>Raw Grace</td>\n",
       "      <td>GraceRaw@yahoo.com</td>\n",
       "      <td>GUEST_INVITE</td>\n",
       "      <td>1.358850e+09</td>\n",
       "      <td>0</td>\n",
       "      <td>0</td>\n",
       "      <td>193</td>\n",
       "      <td>5240.0</td>\n",
       "      <td>1.0</td>\n",
       "      <td>False</td>\n",
       "    </tr>\n",
       "  </tbody>\n",
       "</table>\n",
       "</div>"
      ],
      "text/plain": [
       "                 creation_time               name                       email  \\\n",
       "object_id                                                                       \n",
       "1          2014-04-22 03:53:30     Clausen August    AugustCClausen@yahoo.com   \n",
       "2          2013-11-15 03:45:04      Poole Matthew      MatthewPoole@gustr.com   \n",
       "3          2013-03-19 23:14:52  Bottrill Mitchell  MitchellBottrill@gustr.com   \n",
       "4          2013-05-21 08:09:28    Clausen Nicklas   NicklasSClausen@yahoo.com   \n",
       "5          2013-01-17 10:14:20          Raw Grace          GraceRaw@yahoo.com   \n",
       "\n",
       "          creation_source  last_session_creation_time  \\\n",
       "object_id                                               \n",
       "1            GUEST_INVITE                1.398139e+09   \n",
       "2              ORG_INVITE                1.396238e+09   \n",
       "3              ORG_INVITE                1.363735e+09   \n",
       "4            GUEST_INVITE                1.369210e+09   \n",
       "5            GUEST_INVITE                1.358850e+09   \n",
       "\n",
       "           opted_in_to_mailing_list  enabled_for_marketing_drip  org_id  \\\n",
       "object_id                                                                 \n",
       "1                                 1                           0      11   \n",
       "2                                 0                           0       1   \n",
       "3                                 0                           0      94   \n",
       "4                                 0                           0       1   \n",
       "5                                 0                           0     193   \n",
       "\n",
       "           invited_by_user_id  max_logins  adopted  \n",
       "object_id                                           \n",
       "1                     10803.0         1.0    False  \n",
       "2                       316.0         3.0     True  \n",
       "3                      1525.0         1.0    False  \n",
       "4                      5151.0         1.0    False  \n",
       "5                      5240.0         1.0    False  "
      ]
     },
     "execution_count": 13,
     "metadata": {},
     "output_type": "execute_result"
    }
   ],
   "source": [
    "df_users.head()"
   ]
  },
  {
   "cell_type": "code",
   "execution_count": 14,
   "id": "570ee7ba",
   "metadata": {},
   "outputs": [
    {
     "data": {
      "text/plain": [
       "False    0.879583\n",
       "True     0.120417\n",
       "Name: adopted, dtype: float64"
      ]
     },
     "execution_count": 14,
     "metadata": {},
     "output_type": "execute_result"
    }
   ],
   "source": [
    "df_users['adopted'].value_counts(normalize=True)"
   ]
  },
  {
   "cell_type": "code",
   "execution_count": 15,
   "id": "259adb64",
   "metadata": {},
   "outputs": [],
   "source": [
    "#create a variable for tracking each user's primary email service\n",
    "def email_extractor(string):\n",
    "    string = re.sub(r'(\\w+@)(\\w+)(.\\w+)', r'\\2', string)\n",
    "    return re.sub(r'(\\w+-)(\\w+)', r'\\2', string)"
   ]
  },
  {
   "cell_type": "code",
   "execution_count": 16,
   "id": "291db1eb",
   "metadata": {},
   "outputs": [],
   "source": [
    "df_users['email'] = df_users['email'].apply(email_extractor)"
   ]
  },
  {
   "cell_type": "code",
   "execution_count": 135,
   "id": "7319dfd0",
   "metadata": {},
   "outputs": [
    {
     "data": {
      "text/plain": [
       "Counter({'yahoo': 2447,\n",
       "         'gustr': 1179,\n",
       "         'jourrapide': 1259,\n",
       "         'hotmail': 1165,\n",
       "         'cuvox': 1202,\n",
       "         'other': 4748})"
      ]
     },
     "execution_count": 135,
     "metadata": {},
     "output_type": "execute_result"
    }
   ],
   "source": [
    "Counter(df_users['email'])"
   ]
  },
  {
   "cell_type": "code",
   "execution_count": 18,
   "id": "65833e25",
   "metadata": {},
   "outputs": [],
   "source": [
    "df_users['email'] = df_users['email'].apply(lambda x : x if x in ['yahoo', 'jourrapide', 'gustr', 'hotmail', 'cuvox'] else 'other')"
   ]
  },
  {
   "cell_type": "code",
   "execution_count": 19,
   "id": "86410609",
   "metadata": {},
   "outputs": [],
   "source": [
    "#create a variable for the year each user signed up \n",
    "df_users['creation_time'] = pd.to_datetime(df_users['creation_time'])"
   ]
  },
  {
   "cell_type": "code",
   "execution_count": 20,
   "id": "4833ba60",
   "metadata": {},
   "outputs": [],
   "source": [
    "df_users['creation_year'] = df_users['creation_time'].apply(lambda x : x.year)"
   ]
  },
  {
   "cell_type": "code",
   "execution_count": 21,
   "id": "9cfd1c69",
   "metadata": {},
   "outputs": [
    {
     "data": {
      "text/html": [
       "<div>\n",
       "<style scoped>\n",
       "    .dataframe tbody tr th:only-of-type {\n",
       "        vertical-align: middle;\n",
       "    }\n",
       "\n",
       "    .dataframe tbody tr th {\n",
       "        vertical-align: top;\n",
       "    }\n",
       "\n",
       "    .dataframe thead th {\n",
       "        text-align: right;\n",
       "    }\n",
       "</style>\n",
       "<table border=\"1\" class=\"dataframe\">\n",
       "  <thead>\n",
       "    <tr style=\"text-align: right;\">\n",
       "      <th></th>\n",
       "      <th>creation_time</th>\n",
       "      <th>name</th>\n",
       "      <th>email</th>\n",
       "      <th>creation_source</th>\n",
       "      <th>last_session_creation_time</th>\n",
       "      <th>opted_in_to_mailing_list</th>\n",
       "      <th>enabled_for_marketing_drip</th>\n",
       "      <th>org_id</th>\n",
       "      <th>invited_by_user_id</th>\n",
       "      <th>max_logins</th>\n",
       "      <th>adopted</th>\n",
       "      <th>creation_year</th>\n",
       "    </tr>\n",
       "    <tr>\n",
       "      <th>object_id</th>\n",
       "      <th></th>\n",
       "      <th></th>\n",
       "      <th></th>\n",
       "      <th></th>\n",
       "      <th></th>\n",
       "      <th></th>\n",
       "      <th></th>\n",
       "      <th></th>\n",
       "      <th></th>\n",
       "      <th></th>\n",
       "      <th></th>\n",
       "      <th></th>\n",
       "    </tr>\n",
       "  </thead>\n",
       "  <tbody>\n",
       "    <tr>\n",
       "      <th>8</th>\n",
       "      <td>2013-07-31 05:34:02</td>\n",
       "      <td>Hamilton Danielle</td>\n",
       "      <td>yahoo</td>\n",
       "      <td>PERSONAL_PROJECTS</td>\n",
       "      <td>NaN</td>\n",
       "      <td>1</td>\n",
       "      <td>1</td>\n",
       "      <td>74</td>\n",
       "      <td>NaN</td>\n",
       "      <td>NaN</td>\n",
       "      <td>False</td>\n",
       "      <td>2013</td>\n",
       "    </tr>\n",
       "    <tr>\n",
       "      <th>9</th>\n",
       "      <td>2013-11-05 04:04:24</td>\n",
       "      <td>Amsel Paul</td>\n",
       "      <td>hotmail</td>\n",
       "      <td>PERSONAL_PROJECTS</td>\n",
       "      <td>NaN</td>\n",
       "      <td>0</td>\n",
       "      <td>0</td>\n",
       "      <td>302</td>\n",
       "      <td>NaN</td>\n",
       "      <td>NaN</td>\n",
       "      <td>False</td>\n",
       "      <td>2013</td>\n",
       "    </tr>\n",
       "    <tr>\n",
       "      <th>12</th>\n",
       "      <td>2014-04-17 23:48:38</td>\n",
       "      <td>Mathiesen Lærke</td>\n",
       "      <td>cuvox</td>\n",
       "      <td>ORG_INVITE</td>\n",
       "      <td>NaN</td>\n",
       "      <td>0</td>\n",
       "      <td>0</td>\n",
       "      <td>130</td>\n",
       "      <td>9270.0</td>\n",
       "      <td>NaN</td>\n",
       "      <td>False</td>\n",
       "      <td>2014</td>\n",
       "    </tr>\n",
       "    <tr>\n",
       "      <th>15</th>\n",
       "      <td>2013-07-16 21:33:54</td>\n",
       "      <td>Theiss Ralf</td>\n",
       "      <td>hotmail</td>\n",
       "      <td>PERSONAL_PROJECTS</td>\n",
       "      <td>NaN</td>\n",
       "      <td>0</td>\n",
       "      <td>0</td>\n",
       "      <td>175</td>\n",
       "      <td>NaN</td>\n",
       "      <td>NaN</td>\n",
       "      <td>False</td>\n",
       "      <td>2013</td>\n",
       "    </tr>\n",
       "    <tr>\n",
       "      <th>16</th>\n",
       "      <td>2013-02-11 10:09:50</td>\n",
       "      <td>Engel René</td>\n",
       "      <td>hotmail</td>\n",
       "      <td>PERSONAL_PROJECTS</td>\n",
       "      <td>NaN</td>\n",
       "      <td>0</td>\n",
       "      <td>0</td>\n",
       "      <td>211</td>\n",
       "      <td>NaN</td>\n",
       "      <td>NaN</td>\n",
       "      <td>False</td>\n",
       "      <td>2013</td>\n",
       "    </tr>\n",
       "    <tr>\n",
       "      <th>...</th>\n",
       "      <td>...</td>\n",
       "      <td>...</td>\n",
       "      <td>...</td>\n",
       "      <td>...</td>\n",
       "      <td>...</td>\n",
       "      <td>...</td>\n",
       "      <td>...</td>\n",
       "      <td>...</td>\n",
       "      <td>...</td>\n",
       "      <td>...</td>\n",
       "      <td>...</td>\n",
       "      <td>...</td>\n",
       "    </tr>\n",
       "    <tr>\n",
       "      <th>11976</th>\n",
       "      <td>2013-12-25 22:01:41</td>\n",
       "      <td>Kohl Leah</td>\n",
       "      <td>hotmail</td>\n",
       "      <td>PERSONAL_PROJECTS</td>\n",
       "      <td>NaN</td>\n",
       "      <td>0</td>\n",
       "      <td>0</td>\n",
       "      <td>248</td>\n",
       "      <td>NaN</td>\n",
       "      <td>NaN</td>\n",
       "      <td>False</td>\n",
       "      <td>2013</td>\n",
       "    </tr>\n",
       "    <tr>\n",
       "      <th>11978</th>\n",
       "      <td>2014-04-23 16:28:06</td>\n",
       "      <td>Castro Pedro</td>\n",
       "      <td>gustr</td>\n",
       "      <td>PERSONAL_PROJECTS</td>\n",
       "      <td>NaN</td>\n",
       "      <td>1</td>\n",
       "      <td>0</td>\n",
       "      <td>29</td>\n",
       "      <td>NaN</td>\n",
       "      <td>NaN</td>\n",
       "      <td>False</td>\n",
       "      <td>2014</td>\n",
       "    </tr>\n",
       "    <tr>\n",
       "      <th>11985</th>\n",
       "      <td>2013-07-08 17:23:26</td>\n",
       "      <td>Jespersen Marcus</td>\n",
       "      <td>cuvox</td>\n",
       "      <td>PERSONAL_PROJECTS</td>\n",
       "      <td>NaN</td>\n",
       "      <td>0</td>\n",
       "      <td>0</td>\n",
       "      <td>74</td>\n",
       "      <td>NaN</td>\n",
       "      <td>NaN</td>\n",
       "      <td>False</td>\n",
       "      <td>2013</td>\n",
       "    </tr>\n",
       "    <tr>\n",
       "      <th>11993</th>\n",
       "      <td>2013-03-28 23:24:21</td>\n",
       "      <td>Townsend Isabel</td>\n",
       "      <td>cuvox</td>\n",
       "      <td>PERSONAL_PROJECTS</td>\n",
       "      <td>NaN</td>\n",
       "      <td>0</td>\n",
       "      <td>0</td>\n",
       "      <td>281</td>\n",
       "      <td>NaN</td>\n",
       "      <td>NaN</td>\n",
       "      <td>False</td>\n",
       "      <td>2013</td>\n",
       "    </tr>\n",
       "    <tr>\n",
       "      <th>11994</th>\n",
       "      <td>2012-06-05 04:46:16</td>\n",
       "      <td>Grimstone Joel</td>\n",
       "      <td>other</td>\n",
       "      <td>GUEST_INVITE</td>\n",
       "      <td>NaN</td>\n",
       "      <td>0</td>\n",
       "      <td>0</td>\n",
       "      <td>84</td>\n",
       "      <td>5450.0</td>\n",
       "      <td>NaN</td>\n",
       "      <td>False</td>\n",
       "      <td>2012</td>\n",
       "    </tr>\n",
       "  </tbody>\n",
       "</table>\n",
       "<p>3177 rows × 12 columns</p>\n",
       "</div>"
      ],
      "text/plain": [
       "                creation_time               name    email    creation_source  \\\n",
       "object_id                                                                      \n",
       "8         2013-07-31 05:34:02  Hamilton Danielle    yahoo  PERSONAL_PROJECTS   \n",
       "9         2013-11-05 04:04:24         Amsel Paul  hotmail  PERSONAL_PROJECTS   \n",
       "12        2014-04-17 23:48:38    Mathiesen Lærke    cuvox         ORG_INVITE   \n",
       "15        2013-07-16 21:33:54        Theiss Ralf  hotmail  PERSONAL_PROJECTS   \n",
       "16        2013-02-11 10:09:50         Engel René  hotmail  PERSONAL_PROJECTS   \n",
       "...                       ...                ...      ...                ...   \n",
       "11976     2013-12-25 22:01:41          Kohl Leah  hotmail  PERSONAL_PROJECTS   \n",
       "11978     2014-04-23 16:28:06       Castro Pedro    gustr  PERSONAL_PROJECTS   \n",
       "11985     2013-07-08 17:23:26   Jespersen Marcus    cuvox  PERSONAL_PROJECTS   \n",
       "11993     2013-03-28 23:24:21    Townsend Isabel    cuvox  PERSONAL_PROJECTS   \n",
       "11994     2012-06-05 04:46:16     Grimstone Joel    other       GUEST_INVITE   \n",
       "\n",
       "           last_session_creation_time  opted_in_to_mailing_list  \\\n",
       "object_id                                                         \n",
       "8                                 NaN                         1   \n",
       "9                                 NaN                         0   \n",
       "12                                NaN                         0   \n",
       "15                                NaN                         0   \n",
       "16                                NaN                         0   \n",
       "...                               ...                       ...   \n",
       "11976                             NaN                         0   \n",
       "11978                             NaN                         1   \n",
       "11985                             NaN                         0   \n",
       "11993                             NaN                         0   \n",
       "11994                             NaN                         0   \n",
       "\n",
       "           enabled_for_marketing_drip  org_id  invited_by_user_id  max_logins  \\\n",
       "object_id                                                                       \n",
       "8                                   1      74                 NaN         NaN   \n",
       "9                                   0     302                 NaN         NaN   \n",
       "12                                  0     130              9270.0         NaN   \n",
       "15                                  0     175                 NaN         NaN   \n",
       "16                                  0     211                 NaN         NaN   \n",
       "...                               ...     ...                 ...         ...   \n",
       "11976                               0     248                 NaN         NaN   \n",
       "11978                               0      29                 NaN         NaN   \n",
       "11985                               0      74                 NaN         NaN   \n",
       "11993                               0     281                 NaN         NaN   \n",
       "11994                               0      84              5450.0         NaN   \n",
       "\n",
       "           adopted  creation_year  \n",
       "object_id                          \n",
       "8            False           2013  \n",
       "9            False           2013  \n",
       "12           False           2014  \n",
       "15           False           2013  \n",
       "16           False           2013  \n",
       "...            ...            ...  \n",
       "11976        False           2013  \n",
       "11978        False           2014  \n",
       "11985        False           2013  \n",
       "11993        False           2013  \n",
       "11994        False           2012  \n",
       "\n",
       "[3177 rows x 12 columns]"
      ]
     },
     "execution_count": 21,
     "metadata": {},
     "output_type": "execute_result"
    }
   ],
   "source": [
    "#fill in missing values\n",
    "df_users[df_users['last_session_creation_time'].isna()]"
   ]
  },
  {
   "cell_type": "code",
   "execution_count": 22,
   "id": "bec7fa84",
   "metadata": {},
   "outputs": [],
   "source": [
    "df_users['last_session_creation_time'] = df_users['last_session_creation_time'].apply(lambda x : x if pd.isna(x) else dt.datetime.fromtimestamp(x))"
   ]
  },
  {
   "cell_type": "code",
   "execution_count": 23,
   "id": "303bc364",
   "metadata": {},
   "outputs": [],
   "source": [
    "df_users.fillna({'max_logins' : 0, 'invited_by_user_id' : 0, 'last_session_creation_time': df_users['creation_time']}, inplace=True)"
   ]
  },
  {
   "cell_type": "code",
   "execution_count": 25,
   "id": "c3abed65",
   "metadata": {},
   "outputs": [
    {
     "data": {
      "text/plain": [
       "creation_time                 0\n",
       "name                          0\n",
       "email                         0\n",
       "creation_source               0\n",
       "last_session_creation_time    0\n",
       "opted_in_to_mailing_list      0\n",
       "enabled_for_marketing_drip    0\n",
       "org_id                        0\n",
       "invited_by_user_id            0\n",
       "max_logins                    0\n",
       "adopted                       0\n",
       "creation_year                 0\n",
       "last_session_creation_year    0\n",
       "dtype: int64"
      ]
     },
     "execution_count": 25,
     "metadata": {},
     "output_type": "execute_result"
    }
   ],
   "source": [
    "df_users.isna().sum()"
   ]
  },
  {
   "cell_type": "markdown",
   "id": "b553fc7b",
   "metadata": {},
   "source": [
    "## Figure 1"
   ]
  },
  {
   "cell_type": "code",
   "execution_count": 142,
   "id": "4ad6d1e1",
   "metadata": {},
   "outputs": [
    {
     "data": {
      "image/png": "[encoded data removed]",
      "text/plain": [
       "<Figure size 432x288 with 1 Axes>"
      ]
     },
     "metadata": {
      "needs_background": "light"
     },
     "output_type": "display_data"
    },
    {
     "data": {
      "image/png": "[encoded data removed]",
      "text/plain": [
       "<Figure size 432x288 with 1 Axes>"
      ]
     },
     "metadata": {
      "needs_background": "light"
     },
     "output_type": "display_data"
    },
    {
     "data": {
      "image/png": "[encoded data removed]",
      "text/plain": [
       "<Figure size 432x288 with 1 Axes>"
      ]
     },
     "metadata": {
      "needs_background": "light"
     },
     "output_type": "display_data"
    },
    {
     "data": {
      "image/png": "[encoded data removed]",
      "text/plain": [
       "<Figure size 432x288 with 1 Axes>"
      ]
     },
     "metadata": {
      "needs_background": "light"
     },
     "output_type": "display_data"
    },
    {
     "data": {
      "image/png": "[encoded data removed]",
      "text/plain": [
       "<Figure size 432x288 with 1 Axes>"
      ]
     },
     "metadata": {
      "needs_background": "light"
     },
     "output_type": "display_data"
    }
   ],
   "source": [
    "#graph the relevant variables\n",
    "for i in ['opted_in_to_mailing_list', 'enabled_for_marketing_drip', 'creation_source', 'email', 'creation_year']:\n",
    "    sns.barplot(x=i, y='adopted', data=df_users)\n",
    "    plt.show();"
   ]
  },
  {
   "cell_type": "code",
   "execution_count": 27,
   "id": "c4c5338f",
   "metadata": {},
   "outputs": [],
   "source": [
    "#divide the data into predictor and response variables\n",
    "df_users['creation_year'] = df_users['creation_year'].astype(str)\n",
    "\n",
    "X = pd.get_dummies(df_users[['opted_in_to_mailing_list', 'enabled_for_marketing_drip', 'creation_source', 'email', 'creation_year']], drop_first=True)\n",
    "y = df_users['adopted'].astype(int)"
   ]
  },
  {
   "cell_type": "code",
   "execution_count": 46,
   "id": "dd7778ef",
   "metadata": {},
   "outputs": [],
   "source": [
    "#divide the predictor and response variables into train and test sets\n",
    "X_train, X_test, y_train, y_test = train_test_split(X, y, test_size=.2, stratify=y, random_state=42)"
   ]
  },
  {
   "cell_type": "code",
   "execution_count": 126,
   "id": "b6798489",
   "metadata": {},
   "outputs": [],
   "source": [
    "#tune a upsampling + RandomForest classifier pipeline using Bayesian optimization\n",
    "space = {'n_estimators' : hp.quniform('n_estimators', 100, 500, 1),\n",
    "         'max_depth' : hp.quniform('max_depth', 1, 20, 1),\n",
    "         'min_samples_leaf' : hp.quniform('min_samples_leaf', 1, 5, 1),\n",
    "         'min_samples_split' : hp.quniform('min_samples_split', 2, 6, 1),\n",
    "         'random_state' : 42}"
   ]
  },
  {
   "cell_type": "code",
   "execution_count": 127,
   "id": "f4350165",
   "metadata": {},
   "outputs": [],
   "source": [
    "def rf_eval(params):\n",
    "    est=int(params['n_estimators'])\n",
    "    md=int(params['max_depth'])\n",
    "    msl=int(params['min_samples_leaf'])\n",
    "    mss=int(params['min_samples_split'])\n",
    "    rf = make_pipeline(SMOTE(sampling_strategy='minority', random_state=42), RandomForestClassifier(n_estimators=est,max_depth=md,min_samples_leaf=msl,min_samples_split=mss))\n",
    "    acc = cross_val_score(rf, X_train, y_train, scoring='f1', cv=5).mean()\n",
    "    return {\"loss\" : -acc, \"status\" : STATUS_OK}"
   ]
  },
  {
   "cell_type": "code",
   "execution_count": 128,
   "id": "ca61fc05",
   "metadata": {},
   "outputs": [
    {
     "name": "stdout",
     "output_type": "stream",
     "text": [
      "100%|███████| 20/20 [01:11<00:00,  3.59s/trial, best loss: -0.25818850867058984]\n",
      "Best: {'max_depth': 3.0, 'min_samples_leaf': 1.0, 'min_samples_split': 6.0, 'n_estimators': 472.0}\n"
     ]
    }
   ],
   "source": [
    "trials = Trials()\n",
    "\n",
    "best = fmin(fn=rf_eval, \n",
    "            space=space,\n",
    "            algo=tpe.suggest,\n",
    "            max_evals=20, \n",
    "            trials=trials)\n",
    "\n",
    "print(f\"Best: {best}\")"
   ]
  },
  {
   "cell_type": "code",
   "execution_count": 129,
   "id": "860d5f74",
   "metadata": {},
   "outputs": [],
   "source": [
    "#check the best model's predictions\n",
    "for k, v in best.items():\n",
    "    best[k] = int(v)"
   ]
  },
  {
   "cell_type": "code",
   "execution_count": 130,
   "id": "7dfd1e67",
   "metadata": {},
   "outputs": [],
   "source": [
    "model = make_pipeline(SMOTE(sampling_strategy='minority', random_state=42), RandomForestClassifier(**best))\n",
    "model.fit(X_train, y_train)\n",
    "y_pred = model.predict(X_test)"
   ]
  },
  {
   "cell_type": "code",
   "execution_count": 131,
   "id": "6841045d",
   "metadata": {},
   "outputs": [
    {
     "data": {
      "image/png": "[encoded data removed]",
      "text/plain": [
       "<Figure size 432x288 with 2 Axes>"
      ]
     },
     "metadata": {
      "needs_background": "light"
     },
     "output_type": "display_data"
    }
   ],
   "source": [
    "sns.heatmap(confusion_matrix(y_test, y_pred), annot=True)\n",
    "plt.xlabel('Predicted label')\n",
    "plt.ylabel('Actual label')\n",
    "plt.title('Confusion Matrix for Random Forest Classifier')\n",
    "plt.show();"
   ]
  },
  {
   "cell_type": "markdown",
   "id": "ee64107c",
   "metadata": {},
   "source": [
    "## Figure 2"
   ]
  },
  {
   "cell_type": "code",
   "execution_count": 132,
   "id": "e5b83519",
   "metadata": {},
   "outputs": [
    {
     "data": {
      "image/png": "[encoded data removed]",
      "text/plain": [
       "<Figure size 864x504 with 1 Axes>"
      ]
     },
     "metadata": {
      "needs_background": "light"
     },
     "output_type": "display_data"
    }
   ],
   "source": [
    "#graph feature importances\n",
    "r = permutation_importance(model, X_test, y_test, n_repeats=30, random_state=42)\n",
    "\n",
    "rf_importances = pd.Series(r.importances_mean, index=X.columns).sort_values(ascending=False)\n",
    "\n",
    "fig, ax = plt.subplots(figsize=(12, 7))\n",
    "rf_importances.plot.bar(ax=ax)\n",
    "ax.set_title(\"Feature Importances using Permutations\")\n",
    "ax.set_ylabel(\"Mean decrease in accuracy\")\n",
    "plt.plot();"
   ]
  },
  {
   "cell_type": "code",
   "execution_count": null,
   "id": "edcfb32e",
   "metadata": {},
   "outputs": [],
   "source": []
  }
 ],
 "metadata": {
  "kernelspec": {
   "display_name": "Python 3 (ipykernel)",
   "language": "python",
   "name": "python3"
  },
  "language_info": {
   "codemirror_mode": {
    "name": "ipython",
    "version": 3
   },
   "file_extension": ".py",
   "mimetype": "text/x-python",
   "name": "python",
   "nbconvert_exporter": "python",
   "pygments_lexer": "ipython3",
   "version": "3.9.10"
  }
 },
 "nbformat": 4,
 "nbformat_minor": 5
}
