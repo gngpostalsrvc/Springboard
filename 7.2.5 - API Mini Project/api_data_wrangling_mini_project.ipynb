{
 "cells": [
  {
   "cell_type": "markdown",
   "metadata": {},
   "source": [
    "This exercise will require you to pull some data from the Qunadl API. Qaundl is currently the most widely used aggregator of financial market data."
   ]
  },
  {
   "cell_type": "markdown",
   "metadata": {},
   "source": [
    "As a first step, you will need to register a free account on the http://www.quandl.com website."
   ]
  },
  {
   "cell_type": "markdown",
   "metadata": {},
   "source": [
    "After you register, you will be provided with a unique API key, that you should store:"
   ]
  },
  {
   "cell_type": "code",
   "execution_count": null,
   "metadata": {
    "collapsed": true,
    "jupyter": {
     "outputs_hidden": true
    }
   },
   "outputs": [],
   "source": [
    "# Store the API key as a string - according to PEP8, constants are always named in all upper case\n",
    "API_KEY = '****************'"
   ]
  },
  {
   "cell_type": "markdown",
   "metadata": {},
   "source": [
    "Qaundl has a large number of data sources, but, unfortunately, most of them require a Premium subscription. Still, there are also a good number of free datasets."
   ]
  },
  {
   "cell_type": "markdown",
   "metadata": {},
   "source": [
    "For this mini project, we will focus on equities data from the Frankfurt Stock Exhange (FSE), which is available for free. We'll try and analyze the stock prices of a company called Carl Zeiss Meditec, which manufactures tools for eye examinations, as well as medical lasers for laser eye surgery: https://www.zeiss.com/meditec/int/home.html. The company is listed under the stock ticker AFX_X."
   ]
  },
  {
   "cell_type": "markdown",
   "metadata": {},
   "source": [
    "You can find the detailed Quandl API instructions here: https://docs.quandl.com/docs/time-series"
   ]
  },
  {
   "cell_type": "markdown",
   "metadata": {},
   "source": [
    "While there is a dedicated Python package for connecting to the Quandl API, we would prefer that you use the *requests* package, which can be easily downloaded using *pip* or *conda*. You can find the documentation for the package here: http://docs.python-requests.org/en/master/ "
   ]
  },
  {
   "cell_type": "markdown",
   "metadata": {},
   "source": [
    "Finally, apart from the *requests* package, you are encouraged to not use any third party Python packages, such as *pandas*, and instead focus on what's available in the Python Standard Library (the *collections* module might come in handy: https://pymotw.com/3/collections/ ).\n",
    "Also, since you won't have access to DataFrames, you are encouraged to us Python's native data structures - preferably dictionaries, though some questions can also be answered using lists.\n",
    "You can read more on these data structures here: https://docs.python.org/3/tutorial/datastructures.html"
   ]
  },
  {
   "cell_type": "markdown",
   "metadata": {},
   "source": [
    "Keep in mind that the JSON responses you will be getting from the API map almost one-to-one to Python's dictionaries. Unfortunately, they can be very nested, so make sure you read up on indexing dictionaries in the documentation provided above."
   ]
  },
  {
   "cell_type": "code",
   "execution_count": 1,
   "metadata": {
    "jupyter": {
     "outputs_hidden": true
    }
   },
   "outputs": [],
   "source": [
    "# First, import the relevant modules\n",
    "import requests\n",
    "import json\n"
   ]
  },
  {
   "cell_type": "markdown",
   "metadata": {},
   "source": [
    "Note: API's can change a bit with each version, for this exercise it is reccomended to use the \"V3\" quandl api at `https://www.quandl.com/api/v3/`"
   ]
  },
  {
   "cell_type": "code",
   "execution_count": 19,
   "metadata": {
    "jupyter": {
     "outputs_hidden": true
    }
   },
   "outputs": [
    {
     "data": {
      "text/plain": [
       "['Date',\n",
       " 'Open',\n",
       " 'High',\n",
       " 'Low',\n",
       " 'Close',\n",
       " 'Volume',\n",
       " 'Adjustment Factor',\n",
       " 'Adjustment Type']"
      ]
     },
     "execution_count": 19,
     "metadata": {},
     "output_type": "execute_result"
    }
   ],
   "source": [
    "# Now, call the Quandl API and pull out a small sample of the data (only one day) to get a glimpse\n",
    "# into the JSON structure that will be returned\n",
    "\n",
    "url = 'https://data.nasdaq.com/api/v3/datasets/XFRA/AGB2_UADJ.json?api_key=****************&start_date=2017-01-01&end_date=2017-01-02'\n",
    "r = requests.get(url)\n",
    "json_data = r.json() "
   ]
  },
  {
   "cell_type": "code",
   "execution_count": 20,
   "metadata": {
    "jupyter": {
     "outputs_hidden": true
    }
   },
   "outputs": [
    {
     "data": {
      "text/plain": [
       "[['2017-01-02', 114.65, 114.65, 114.36, 114.36, 30.0, None, None]]"
      ]
     },
     "execution_count": 20,
     "metadata": {},
     "output_type": "execute_result"
    }
   ],
   "source": [
    "# Inspect the JSON structure of the object you created, and take note of how nested it is,\n",
    "# as well as the overall structure\n",
    "\n",
    "#Calling json_data.keys() yields 'dataset', while calling json['dataset'].keys() yields a much longer list which \n",
    "#includes, among other things, 'column_names' and 'data'. json_data['dataset']['column_names'] returns the list\n",
    "#['Date', 'Open', 'High', 'Low', 'Close', 'Volume', 'Adjustment Factor', 'Adjustment Type'], while \n",
    "#json_data['dataset']['data'] returns the corresponding obersvations for each day. Taken together, these two items \n",
    "#contain all the information needed to answer the questions in this notebook. \n",
    "\n",
    "json_data.keys()\n",
    "json_data['dataset'].keys()\n",
    "json_data['dataset']['column_names']\n",
    "json_data['dataset']['data']\n",
    "\n"
   ]
  },
  {
   "cell_type": "markdown",
   "metadata": {},
   "source": [
    "These are your tasks for this mini project:\n",
    "\n",
    "1. Collect data from the Franfurt Stock Exchange, for the ticker AFX_X, for the whole year 2017 (keep in mind that the date format is YYYY-MM-DD).\n",
    "2. Convert the returned JSON object into a Python dictionary.\n",
    "3. Calculate what the highest and lowest opening prices were for the stock in this period.\n",
    "4. What was the largest change in any one day (based on High and Low price)?\n",
    "5. What was the largest change between any two days (based on Closing Price)?\n",
    "6. What was the average daily trading volume during this year?\n",
    "7. (Optional) What was the median trading volume during this year. (Note: you may need to implement your own function for calculating the median.)"
   ]
  },
  {
   "cell_type": "code",
   "execution_count": 28,
   "metadata": {
    "jupyter": {
     "outputs_hidden": true
    }
   },
   "outputs": [],
   "source": [
    "#Task 1: The data for AFX_X is no longer available from Quandl for free, so I used data for Agrana Beteilungs AG\n",
    "#(AGB2) instead. For security purposes, I've replaced my API key for Quandl with the string '****************'. \n",
    "\n",
    "url = 'https://data.nasdaq.com/api/v3/datasets/XFRA/AGB2_UADJ.json?api_key=****************&start_date=2017-01-01&end_date=2018-01-01'\n",
    "r = requests.get(url)\n",
    "json_data = r.json()\n"
   ]
  },
  {
   "cell_type": "code",
   "execution_count": null,
   "metadata": {},
   "outputs": [],
   "source": [
    "#Task 2:\n",
    "\n",
    "dict_data = dict(json_data) "
   ]
  },
  {
   "cell_type": "code",
   "execution_count": 44,
   "metadata": {},
   "outputs": [],
   "source": [
    "#Task 3: As we can see from dict_data['dataset']['column_names'], the opening price is stored at index 1 for each \n",
    "#item in dict['dataset']['data']. We can collect all of the opening prices by iterating over all of the items in this\n",
    "#list and appending the entry at index 1 to the list openings.\n",
    "\n",
    "openings = []\n",
    "data = dict_data['dataset']['data']\n",
    "\n",
    "for item in data:\n",
    "    openings.append(item[1])"
   ]
  },
  {
   "cell_type": "code",
   "execution_count": 45,
   "metadata": {},
   "outputs": [
    {
     "data": {
      "text/plain": [
       "126.0"
      ]
     },
     "execution_count": 45,
     "metadata": {},
     "output_type": "execute_result"
    }
   ],
   "source": [
    "#We can then call the max() and min() functions on openings to determine the highest and lowest opening price for \n",
    "#AGB2 in 2017. \n",
    "\n",
    "max(openings)"
   ]
  },
  {
   "cell_type": "code",
   "execution_count": 46,
   "metadata": {},
   "outputs": [
    {
     "data": {
      "text/plain": [
       "91.0"
      ]
     },
     "execution_count": 46,
     "metadata": {},
     "output_type": "execute_result"
    }
   ],
   "source": [
    "min(openings)"
   ]
  },
  {
   "cell_type": "code",
   "execution_count": 47,
   "metadata": {},
   "outputs": [],
   "source": [
    "#Task 4: Similarly, the high and low prices for each day are stored at index 2 and 3 respectively for each item in \n",
    "#data. We can calculate the daily change for each day in 2017 by iterating over all of the items in data, subtracting\n",
    "#the entry at index 3 from the entry at index 2, and appending the result to the list changes. \n",
    "\n",
    "changes =[]\n",
    "\n",
    "for item in data:\n",
    "    change = item[2] - item[3]\n",
    "    changes.append(change)"
   ]
  },
  {
   "cell_type": "code",
   "execution_count": 48,
   "metadata": {},
   "outputs": [
    {
     "data": {
      "text/plain": [
       "11.358000000000004"
      ]
     },
     "execution_count": 48,
     "metadata": {},
     "output_type": "execute_result"
    }
   ],
   "source": [
    "#We can then call the max() functions on changes to determine the largest daily change price for \n",
    "#AGB2 in 2017. \n",
    "\n",
    "max(changes)"
   ]
  },
  {
   "cell_type": "code",
   "execution_count": 97,
   "metadata": {},
   "outputs": [
    {
     "data": {
      "text/plain": [
       "7.831999999999994"
      ]
     },
     "execution_count": 97,
     "metadata": {},
     "output_type": "execute_result"
    }
   ],
   "source": [
    "#Task 5: Closing price is stored at index 4 for every item in data. To calculate the change in closing price for \n",
    "#every pair of consecutive days, we can create a list of tuples corresponding to all of the possible pairs of \n",
    "#consecutive days, iterate over this list to calculate the daily change for each pair, and then append this \n",
    "#information the list daily_changes. \n",
    "\n",
    "list1 = [i for i in range(len(data) - 1)]\n",
    "list2 = [i + 1 for i in range(len(data) - 1)]\n",
    "pairs = list(zip(list1, list2))\n",
    "daily_changes = []\n",
    "\n",
    "for x, y in pairs:\n",
    "    daily_change = data[y][4] - data[x][4]\n",
    "    daily_changes.append(daily_change)"
   ]
  },
  {
   "cell_type": "code",
   "execution_count": 98,
   "metadata": {},
   "outputs": [
    {
     "data": {
      "text/plain": [
       "7.831999999999994"
      ]
     },
     "execution_count": 98,
     "metadata": {},
     "output_type": "execute_result"
    }
   ],
   "source": [
    "#Finally, we can call the max() function on daily_changes to determine the largest change between any two \n",
    "#consecutive days based on closing price. \n",
    "    \n",
    "max(daily_changes)"
   ]
  },
  {
   "cell_type": "code",
   "execution_count": 49,
   "metadata": {},
   "outputs": [],
   "source": [
    "#Task 6: Trading volume is stored at index 5 for each item in data. We can therefore use a similar approach to \n",
    "#extract the volume for each day in 2017 and then calculate the mean. \n",
    "\n",
    "volumes = []\n",
    "for item in data:\n",
    "    volume = item[5]\n",
    "    volumes.append(volume)"
   ]
  },
  {
   "cell_type": "code",
   "execution_count": 54,
   "metadata": {},
   "outputs": [
    {
     "data": {
      "text/plain": [
       "130.8544061302682"
      ]
     },
     "execution_count": 54,
     "metadata": {},
     "output_type": "execute_result"
    }
   ],
   "source": [
    "sum(volumes)/len(volumes)"
   ]
  },
  {
   "cell_type": "code",
   "execution_count": 78,
   "metadata": {},
   "outputs": [
    {
     "data": {
      "text/plain": [
       "50.0"
      ]
     },
     "execution_count": 78,
     "metadata": {},
     "output_type": "execute_result"
    }
   ],
   "source": [
    "#Task 7: For a sorted list of length n, the median value will appear at index (n-1)/2 for an odd n. Otherwise it\n",
    "#will be the average of the entries appearing at indexes n/2 - 1 and n/2. Based on this information, we can define\n",
    "#a function that will calculate the median value of a list of numbers and pass it the list volumes. \n",
    "\n",
    "def median(n):\n",
    "    \n",
    "    new = sorted(n) #first we need to insure that the list is sorted\n",
    "    \n",
    "    odd_mid = int((len(new) - 1)/2)\n",
    "    even_mid = int(len(new)/2)\n",
    "    \n",
    "    if len(new)%2 == 1: #then we check whether the length of the sorted list is odd or even and return the appropriate value\n",
    "        return new[odd_mid] \n",
    "    else:\n",
    "        return (new[even_mid] + new[even_mid - 1])/2 \n",
    "    \n",
    "median(volumes)  \n",
    "    "
   ]
  }
 ],
 "metadata": {
  "kernelspec": {
   "display_name": "Python 3",
   "language": "python",
   "name": "python3"
  },
  "language_info": {
   "codemirror_mode": {
    "name": "ipython",
    "version": 3
   },
   "file_extension": ".py",
   "mimetype": "text/x-python",
   "name": "python",
   "nbconvert_exporter": "python",
   "pygments_lexer": "ipython3",
   "version": "3.9.6"
  }
 },
 "nbformat": 4,
 "nbformat_minor": 4
}
