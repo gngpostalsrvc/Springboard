{
 "cells": [
  {
   "cell_type": "code",
   "execution_count": 1,
   "id": "96abb50c",
   "metadata": {},
   "outputs": [],
   "source": [
    "#import the necessary packages\n",
    "import numpy as np\n",
    "import pandas as pd\n",
    "import datetime as dt\n",
    "import matplotlib.pyplot as plt\n",
    "import seaborn as sns\n",
    "import lightgbm\n",
    "import warnings\n",
    "from sklearn.model_selection import train_test_split, cross_val_score\n",
    "from sklearn.tree import DecisionTreeClassifier\n",
    "from sklearn.ensemble import RandomForestClassifier\n",
    "from sklearn.metrics import confusion_matrix\n",
    "from sklearn.inspection import permutation_importance\n",
    "from bayes_opt import BayesianOptimization"
   ]
  },
  {
   "cell_type": "code",
   "execution_count": 2,
   "id": "950911f4",
   "metadata": {},
   "outputs": [],
   "source": [
    "#load the data\n",
    "df = pd.read_json('ultimate_data_challenge.json')"
   ]
  },
  {
   "cell_type": "code",
   "execution_count": 3,
   "id": "32b87b5e",
   "metadata": {},
   "outputs": [
    {
     "data": {
      "text/html": [
       "<div>\n",
       "<style scoped>\n",
       "    .dataframe tbody tr th:only-of-type {\n",
       "        vertical-align: middle;\n",
       "    }\n",
       "\n",
       "    .dataframe tbody tr th {\n",
       "        vertical-align: top;\n",
       "    }\n",
       "\n",
       "    .dataframe thead th {\n",
       "        text-align: right;\n",
       "    }\n",
       "</style>\n",
       "<table border=\"1\" class=\"dataframe\">\n",
       "  <thead>\n",
       "    <tr style=\"text-align: right;\">\n",
       "      <th></th>\n",
       "      <th>city</th>\n",
       "      <th>trips_in_first_30_days</th>\n",
       "      <th>signup_date</th>\n",
       "      <th>avg_rating_of_driver</th>\n",
       "      <th>avg_surge</th>\n",
       "      <th>last_trip_date</th>\n",
       "      <th>phone</th>\n",
       "      <th>surge_pct</th>\n",
       "      <th>ultimate_black_user</th>\n",
       "      <th>weekday_pct</th>\n",
       "      <th>avg_dist</th>\n",
       "      <th>avg_rating_by_driver</th>\n",
       "    </tr>\n",
       "  </thead>\n",
       "  <tbody>\n",
       "    <tr>\n",
       "      <th>0</th>\n",
       "      <td>King's Landing</td>\n",
       "      <td>4</td>\n",
       "      <td>2014-01-25</td>\n",
       "      <td>4.7</td>\n",
       "      <td>1.10</td>\n",
       "      <td>2014-06-17</td>\n",
       "      <td>iPhone</td>\n",
       "      <td>15.4</td>\n",
       "      <td>True</td>\n",
       "      <td>46.2</td>\n",
       "      <td>3.67</td>\n",
       "      <td>5.0</td>\n",
       "    </tr>\n",
       "    <tr>\n",
       "      <th>1</th>\n",
       "      <td>Astapor</td>\n",
       "      <td>0</td>\n",
       "      <td>2014-01-29</td>\n",
       "      <td>5.0</td>\n",
       "      <td>1.00</td>\n",
       "      <td>2014-05-05</td>\n",
       "      <td>Android</td>\n",
       "      <td>0.0</td>\n",
       "      <td>False</td>\n",
       "      <td>50.0</td>\n",
       "      <td>8.26</td>\n",
       "      <td>5.0</td>\n",
       "    </tr>\n",
       "    <tr>\n",
       "      <th>2</th>\n",
       "      <td>Astapor</td>\n",
       "      <td>3</td>\n",
       "      <td>2014-01-06</td>\n",
       "      <td>4.3</td>\n",
       "      <td>1.00</td>\n",
       "      <td>2014-01-07</td>\n",
       "      <td>iPhone</td>\n",
       "      <td>0.0</td>\n",
       "      <td>False</td>\n",
       "      <td>100.0</td>\n",
       "      <td>0.77</td>\n",
       "      <td>5.0</td>\n",
       "    </tr>\n",
       "    <tr>\n",
       "      <th>3</th>\n",
       "      <td>King's Landing</td>\n",
       "      <td>9</td>\n",
       "      <td>2014-01-10</td>\n",
       "      <td>4.6</td>\n",
       "      <td>1.14</td>\n",
       "      <td>2014-06-29</td>\n",
       "      <td>iPhone</td>\n",
       "      <td>20.0</td>\n",
       "      <td>True</td>\n",
       "      <td>80.0</td>\n",
       "      <td>2.36</td>\n",
       "      <td>4.9</td>\n",
       "    </tr>\n",
       "    <tr>\n",
       "      <th>4</th>\n",
       "      <td>Winterfell</td>\n",
       "      <td>14</td>\n",
       "      <td>2014-01-27</td>\n",
       "      <td>4.4</td>\n",
       "      <td>1.19</td>\n",
       "      <td>2014-03-15</td>\n",
       "      <td>Android</td>\n",
       "      <td>11.8</td>\n",
       "      <td>False</td>\n",
       "      <td>82.4</td>\n",
       "      <td>3.13</td>\n",
       "      <td>4.9</td>\n",
       "    </tr>\n",
       "  </tbody>\n",
       "</table>\n",
       "</div>"
      ],
      "text/plain": [
       "             city  trips_in_first_30_days signup_date  avg_rating_of_driver  \\\n",
       "0  King's Landing                       4  2014-01-25                   4.7   \n",
       "1         Astapor                       0  2014-01-29                   5.0   \n",
       "2         Astapor                       3  2014-01-06                   4.3   \n",
       "3  King's Landing                       9  2014-01-10                   4.6   \n",
       "4      Winterfell                      14  2014-01-27                   4.4   \n",
       "\n",
       "   avg_surge last_trip_date    phone  surge_pct  ultimate_black_user  \\\n",
       "0       1.10     2014-06-17   iPhone       15.4                 True   \n",
       "1       1.00     2014-05-05  Android        0.0                False   \n",
       "2       1.00     2014-01-07   iPhone        0.0                False   \n",
       "3       1.14     2014-06-29   iPhone       20.0                 True   \n",
       "4       1.19     2014-03-15  Android       11.8                False   \n",
       "\n",
       "   weekday_pct  avg_dist  avg_rating_by_driver  \n",
       "0         46.2      3.67                   5.0  \n",
       "1         50.0      8.26                   5.0  \n",
       "2        100.0      0.77                   5.0  \n",
       "3         80.0      2.36                   4.9  \n",
       "4         82.4      3.13                   4.9  "
      ]
     },
     "execution_count": 3,
     "metadata": {},
     "output_type": "execute_result"
    }
   ],
   "source": [
    "df.head()"
   ]
  },
  {
   "cell_type": "markdown",
   "id": "f4f83135",
   "metadata": {},
   "source": [
    "# Data Cleaning"
   ]
  },
  {
   "cell_type": "markdown",
   "id": "6e10407f",
   "metadata": {},
   "source": [
    "First, let's check the data type of each column. "
   ]
  },
  {
   "cell_type": "code",
   "execution_count": 4,
   "id": "79220b80",
   "metadata": {},
   "outputs": [
    {
     "data": {
      "text/plain": [
       "city                       object\n",
       "trips_in_first_30_days      int64\n",
       "signup_date                object\n",
       "avg_rating_of_driver      float64\n",
       "avg_surge                 float64\n",
       "last_trip_date             object\n",
       "phone                      object\n",
       "surge_pct                 float64\n",
       "ultimate_black_user          bool\n",
       "weekday_pct               float64\n",
       "avg_dist                  float64\n",
       "avg_rating_by_driver      float64\n",
       "dtype: object"
      ]
     },
     "execution_count": 4,
     "metadata": {},
     "output_type": "execute_result"
    }
   ],
   "source": [
    "df.dtypes"
   ]
  },
  {
   "cell_type": "markdown",
   "id": "5aa88e63",
   "metadata": {},
   "source": [
    "The columns 'sign_up date' and 'last_trip_date' should be datetime, so we'll convert them now. "
   ]
  },
  {
   "cell_type": "code",
   "execution_count": 4,
   "id": "f82d8828",
   "metadata": {},
   "outputs": [],
   "source": [
    "df['signup_date'] = pd.to_datetime(df['signup_date'])\n",
    "df['last_trip_date'] = pd.to_datetime(df['last_trip_date'])"
   ]
  },
  {
   "cell_type": "code",
   "execution_count": 6,
   "id": "65401597",
   "metadata": {},
   "outputs": [
    {
     "data": {
      "text/plain": [
       "city                              object\n",
       "trips_in_first_30_days             int64\n",
       "signup_date               datetime64[ns]\n",
       "avg_rating_of_driver             float64\n",
       "avg_surge                        float64\n",
       "last_trip_date            datetime64[ns]\n",
       "phone                             object\n",
       "surge_pct                        float64\n",
       "ultimate_black_user                 bool\n",
       "weekday_pct                      float64\n",
       "avg_dist                         float64\n",
       "avg_rating_by_driver             float64\n",
       "dtype: object"
      ]
     },
     "execution_count": 6,
     "metadata": {},
     "output_type": "execute_result"
    }
   ],
   "source": [
    "df.dtypes"
   ]
  },
  {
   "cell_type": "markdown",
   "id": "32ec3707",
   "metadata": {},
   "source": [
    "Next let's check for missing values. "
   ]
  },
  {
   "cell_type": "code",
   "execution_count": 7,
   "id": "cd7f0b20",
   "metadata": {},
   "outputs": [
    {
     "name": "stdout",
     "output_type": "stream",
     "text": [
      "<class 'pandas.core.frame.DataFrame'>\n",
      "RangeIndex: 50000 entries, 0 to 49999\n",
      "Data columns (total 12 columns):\n",
      " #   Column                  Non-Null Count  Dtype         \n",
      "---  ------                  --------------  -----         \n",
      " 0   city                    50000 non-null  object        \n",
      " 1   trips_in_first_30_days  50000 non-null  int64         \n",
      " 2   signup_date             50000 non-null  datetime64[ns]\n",
      " 3   avg_rating_of_driver    41878 non-null  float64       \n",
      " 4   avg_surge               50000 non-null  float64       \n",
      " 5   last_trip_date          50000 non-null  datetime64[ns]\n",
      " 6   phone                   49604 non-null  object        \n",
      " 7   surge_pct               50000 non-null  float64       \n",
      " 8   ultimate_black_user     50000 non-null  bool          \n",
      " 9   weekday_pct             50000 non-null  float64       \n",
      " 10  avg_dist                50000 non-null  float64       \n",
      " 11  avg_rating_by_driver    49799 non-null  float64       \n",
      "dtypes: bool(1), datetime64[ns](2), float64(6), int64(1), object(2)\n",
      "memory usage: 4.2+ MB\n"
     ]
    }
   ],
   "source": [
    "df.info()"
   ]
  },
  {
   "cell_type": "code",
   "execution_count": 8,
   "id": "375db315",
   "metadata": {},
   "outputs": [
    {
     "data": {
      "text/plain": [
       "41445"
      ]
     },
     "execution_count": 8,
     "metadata": {},
     "output_type": "execute_result"
    }
   ],
   "source": [
    "len(df.dropna())"
   ]
  },
  {
   "cell_type": "markdown",
   "id": "ddb41bb2",
   "metadata": {},
   "source": [
    "It looks like there are some missing values for the columns 'avg_rating_of_driver', 'phone', and 'avg_rating_by_driver'. By simply dropping NaNs, we would lose nearly a fifth of the data, so it's important to investigate each column individually to determine whether any of the rows containing missing values can be salvaged."
   ]
  },
  {
   "cell_type": "code",
   "execution_count": 9,
   "id": "36d164aa",
   "metadata": {},
   "outputs": [
    {
     "data": {
      "text/html": [
       "<div>\n",
       "<style scoped>\n",
       "    .dataframe tbody tr th:only-of-type {\n",
       "        vertical-align: middle;\n",
       "    }\n",
       "\n",
       "    .dataframe tbody tr th {\n",
       "        vertical-align: top;\n",
       "    }\n",
       "\n",
       "    .dataframe thead th {\n",
       "        text-align: right;\n",
       "    }\n",
       "</style>\n",
       "<table border=\"1\" class=\"dataframe\">\n",
       "  <thead>\n",
       "    <tr style=\"text-align: right;\">\n",
       "      <th></th>\n",
       "      <th>city</th>\n",
       "      <th>trips_in_first_30_days</th>\n",
       "      <th>signup_date</th>\n",
       "      <th>avg_rating_of_driver</th>\n",
       "      <th>avg_surge</th>\n",
       "      <th>last_trip_date</th>\n",
       "      <th>phone</th>\n",
       "      <th>surge_pct</th>\n",
       "      <th>ultimate_black_user</th>\n",
       "      <th>weekday_pct</th>\n",
       "      <th>avg_dist</th>\n",
       "      <th>avg_rating_by_driver</th>\n",
       "    </tr>\n",
       "  </thead>\n",
       "  <tbody>\n",
       "    <tr>\n",
       "      <th>134</th>\n",
       "      <td>King's Landing</td>\n",
       "      <td>0</td>\n",
       "      <td>2014-01-10</td>\n",
       "      <td>5.0</td>\n",
       "      <td>1.00</td>\n",
       "      <td>2014-06-11</td>\n",
       "      <td>None</td>\n",
       "      <td>0.0</td>\n",
       "      <td>False</td>\n",
       "      <td>100.0</td>\n",
       "      <td>2.88</td>\n",
       "      <td>5.0</td>\n",
       "    </tr>\n",
       "    <tr>\n",
       "      <th>176</th>\n",
       "      <td>Astapor</td>\n",
       "      <td>0</td>\n",
       "      <td>2014-01-28</td>\n",
       "      <td>5.0</td>\n",
       "      <td>1.00</td>\n",
       "      <td>2014-03-18</td>\n",
       "      <td>None</td>\n",
       "      <td>0.0</td>\n",
       "      <td>False</td>\n",
       "      <td>100.0</td>\n",
       "      <td>20.32</td>\n",
       "      <td>5.0</td>\n",
       "    </tr>\n",
       "    <tr>\n",
       "      <th>320</th>\n",
       "      <td>Astapor</td>\n",
       "      <td>1</td>\n",
       "      <td>2014-01-08</td>\n",
       "      <td>5.0</td>\n",
       "      <td>1.00</td>\n",
       "      <td>2014-01-09</td>\n",
       "      <td>None</td>\n",
       "      <td>0.0</td>\n",
       "      <td>False</td>\n",
       "      <td>100.0</td>\n",
       "      <td>31.01</td>\n",
       "      <td>5.0</td>\n",
       "    </tr>\n",
       "    <tr>\n",
       "      <th>349</th>\n",
       "      <td>Winterfell</td>\n",
       "      <td>1</td>\n",
       "      <td>2014-01-06</td>\n",
       "      <td>3.3</td>\n",
       "      <td>1.00</td>\n",
       "      <td>2014-06-22</td>\n",
       "      <td>None</td>\n",
       "      <td>0.0</td>\n",
       "      <td>True</td>\n",
       "      <td>33.3</td>\n",
       "      <td>6.03</td>\n",
       "      <td>5.0</td>\n",
       "    </tr>\n",
       "    <tr>\n",
       "      <th>389</th>\n",
       "      <td>King's Landing</td>\n",
       "      <td>5</td>\n",
       "      <td>2014-01-26</td>\n",
       "      <td>4.9</td>\n",
       "      <td>1.02</td>\n",
       "      <td>2014-07-01</td>\n",
       "      <td>None</td>\n",
       "      <td>3.0</td>\n",
       "      <td>False</td>\n",
       "      <td>66.7</td>\n",
       "      <td>3.08</td>\n",
       "      <td>4.8</td>\n",
       "    </tr>\n",
       "    <tr>\n",
       "      <th>...</th>\n",
       "      <td>...</td>\n",
       "      <td>...</td>\n",
       "      <td>...</td>\n",
       "      <td>...</td>\n",
       "      <td>...</td>\n",
       "      <td>...</td>\n",
       "      <td>...</td>\n",
       "      <td>...</td>\n",
       "      <td>...</td>\n",
       "      <td>...</td>\n",
       "      <td>...</td>\n",
       "      <td>...</td>\n",
       "    </tr>\n",
       "    <tr>\n",
       "      <th>49587</th>\n",
       "      <td>Winterfell</td>\n",
       "      <td>1</td>\n",
       "      <td>2014-01-17</td>\n",
       "      <td>5.0</td>\n",
       "      <td>1.00</td>\n",
       "      <td>2014-01-19</td>\n",
       "      <td>None</td>\n",
       "      <td>0.0</td>\n",
       "      <td>True</td>\n",
       "      <td>0.0</td>\n",
       "      <td>1.15</td>\n",
       "      <td>3.0</td>\n",
       "    </tr>\n",
       "    <tr>\n",
       "      <th>49627</th>\n",
       "      <td>Astapor</td>\n",
       "      <td>6</td>\n",
       "      <td>2014-01-05</td>\n",
       "      <td>5.0</td>\n",
       "      <td>1.00</td>\n",
       "      <td>2014-01-25</td>\n",
       "      <td>None</td>\n",
       "      <td>0.0</td>\n",
       "      <td>True</td>\n",
       "      <td>33.3</td>\n",
       "      <td>3.10</td>\n",
       "      <td>4.5</td>\n",
       "    </tr>\n",
       "    <tr>\n",
       "      <th>49666</th>\n",
       "      <td>Winterfell</td>\n",
       "      <td>2</td>\n",
       "      <td>2014-01-22</td>\n",
       "      <td>NaN</td>\n",
       "      <td>1.00</td>\n",
       "      <td>2014-01-23</td>\n",
       "      <td>None</td>\n",
       "      <td>0.0</td>\n",
       "      <td>True</td>\n",
       "      <td>100.0</td>\n",
       "      <td>0.73</td>\n",
       "      <td>5.0</td>\n",
       "    </tr>\n",
       "    <tr>\n",
       "      <th>49825</th>\n",
       "      <td>Astapor</td>\n",
       "      <td>0</td>\n",
       "      <td>2014-01-25</td>\n",
       "      <td>5.0</td>\n",
       "      <td>1.00</td>\n",
       "      <td>2014-03-10</td>\n",
       "      <td>None</td>\n",
       "      <td>0.0</td>\n",
       "      <td>True</td>\n",
       "      <td>50.0</td>\n",
       "      <td>5.82</td>\n",
       "      <td>5.0</td>\n",
       "    </tr>\n",
       "    <tr>\n",
       "      <th>49868</th>\n",
       "      <td>King's Landing</td>\n",
       "      <td>0</td>\n",
       "      <td>2014-01-31</td>\n",
       "      <td>5.0</td>\n",
       "      <td>1.18</td>\n",
       "      <td>2014-06-18</td>\n",
       "      <td>None</td>\n",
       "      <td>35.7</td>\n",
       "      <td>False</td>\n",
       "      <td>78.6</td>\n",
       "      <td>2.31</td>\n",
       "      <td>4.9</td>\n",
       "    </tr>\n",
       "  </tbody>\n",
       "</table>\n",
       "<p>396 rows × 12 columns</p>\n",
       "</div>"
      ],
      "text/plain": [
       "                 city  trips_in_first_30_days signup_date  \\\n",
       "134    King's Landing                       0  2014-01-10   \n",
       "176           Astapor                       0  2014-01-28   \n",
       "320           Astapor                       1  2014-01-08   \n",
       "349        Winterfell                       1  2014-01-06   \n",
       "389    King's Landing                       5  2014-01-26   \n",
       "...               ...                     ...         ...   \n",
       "49587      Winterfell                       1  2014-01-17   \n",
       "49627         Astapor                       6  2014-01-05   \n",
       "49666      Winterfell                       2  2014-01-22   \n",
       "49825         Astapor                       0  2014-01-25   \n",
       "49868  King's Landing                       0  2014-01-31   \n",
       "\n",
       "       avg_rating_of_driver  avg_surge last_trip_date phone  surge_pct  \\\n",
       "134                     5.0       1.00     2014-06-11  None        0.0   \n",
       "176                     5.0       1.00     2014-03-18  None        0.0   \n",
       "320                     5.0       1.00     2014-01-09  None        0.0   \n",
       "349                     3.3       1.00     2014-06-22  None        0.0   \n",
       "389                     4.9       1.02     2014-07-01  None        3.0   \n",
       "...                     ...        ...            ...   ...        ...   \n",
       "49587                   5.0       1.00     2014-01-19  None        0.0   \n",
       "49627                   5.0       1.00     2014-01-25  None        0.0   \n",
       "49666                   NaN       1.00     2014-01-23  None        0.0   \n",
       "49825                   5.0       1.00     2014-03-10  None        0.0   \n",
       "49868                   5.0       1.18     2014-06-18  None       35.7   \n",
       "\n",
       "       ultimate_black_user  weekday_pct  avg_dist  avg_rating_by_driver  \n",
       "134                  False        100.0      2.88                   5.0  \n",
       "176                  False        100.0     20.32                   5.0  \n",
       "320                  False        100.0     31.01                   5.0  \n",
       "349                   True         33.3      6.03                   5.0  \n",
       "389                  False         66.7      3.08                   4.8  \n",
       "...                    ...          ...       ...                   ...  \n",
       "49587                 True          0.0      1.15                   3.0  \n",
       "49627                 True         33.3      3.10                   4.5  \n",
       "49666                 True        100.0      0.73                   5.0  \n",
       "49825                 True         50.0      5.82                   5.0  \n",
       "49868                False         78.6      2.31                   4.9  \n",
       "\n",
       "[396 rows x 12 columns]"
      ]
     },
     "execution_count": 9,
     "metadata": {},
     "output_type": "execute_result"
    }
   ],
   "source": [
    "df[df['phone'].isna()]"
   ]
  },
  {
   "cell_type": "markdown",
   "id": "c8ec70cb",
   "metadata": {},
   "source": [
    "\"None\" in the 'phone' column probably indicates someone without a phone, but Python treats it as an NaN. Let's change it to something more suitable like \"No phone.\" "
   ]
  },
  {
   "cell_type": "code",
   "execution_count": 10,
   "id": "931c951c",
   "metadata": {},
   "outputs": [
    {
     "data": {
      "text/html": [
       "<div>\n",
       "<style scoped>\n",
       "    .dataframe tbody tr th:only-of-type {\n",
       "        vertical-align: middle;\n",
       "    }\n",
       "\n",
       "    .dataframe tbody tr th {\n",
       "        vertical-align: top;\n",
       "    }\n",
       "\n",
       "    .dataframe thead th {\n",
       "        text-align: right;\n",
       "    }\n",
       "</style>\n",
       "<table border=\"1\" class=\"dataframe\">\n",
       "  <thead>\n",
       "    <tr style=\"text-align: right;\">\n",
       "      <th></th>\n",
       "      <th>city</th>\n",
       "      <th>trips_in_first_30_days</th>\n",
       "      <th>signup_date</th>\n",
       "      <th>avg_rating_of_driver</th>\n",
       "      <th>avg_surge</th>\n",
       "      <th>last_trip_date</th>\n",
       "      <th>phone</th>\n",
       "      <th>surge_pct</th>\n",
       "      <th>ultimate_black_user</th>\n",
       "      <th>weekday_pct</th>\n",
       "      <th>avg_dist</th>\n",
       "      <th>avg_rating_by_driver</th>\n",
       "    </tr>\n",
       "  </thead>\n",
       "  <tbody>\n",
       "    <tr>\n",
       "      <th>6</th>\n",
       "      <td>Astapor</td>\n",
       "      <td>1</td>\n",
       "      <td>2014-01-24</td>\n",
       "      <td>NaN</td>\n",
       "      <td>1.0</td>\n",
       "      <td>2014-01-25</td>\n",
       "      <td>Android</td>\n",
       "      <td>0.0</td>\n",
       "      <td>False</td>\n",
       "      <td>100.0</td>\n",
       "      <td>3.95</td>\n",
       "      <td>4.0</td>\n",
       "    </tr>\n",
       "    <tr>\n",
       "      <th>9</th>\n",
       "      <td>Winterfell</td>\n",
       "      <td>1</td>\n",
       "      <td>2014-01-03</td>\n",
       "      <td>NaN</td>\n",
       "      <td>1.0</td>\n",
       "      <td>2014-01-05</td>\n",
       "      <td>Android</td>\n",
       "      <td>0.0</td>\n",
       "      <td>False</td>\n",
       "      <td>0.0</td>\n",
       "      <td>2.37</td>\n",
       "      <td>5.0</td>\n",
       "    </tr>\n",
       "    <tr>\n",
       "      <th>12</th>\n",
       "      <td>Winterfell</td>\n",
       "      <td>1</td>\n",
       "      <td>2014-01-15</td>\n",
       "      <td>NaN</td>\n",
       "      <td>1.0</td>\n",
       "      <td>2014-03-12</td>\n",
       "      <td>iPhone</td>\n",
       "      <td>0.0</td>\n",
       "      <td>False</td>\n",
       "      <td>100.0</td>\n",
       "      <td>20.29</td>\n",
       "      <td>5.0</td>\n",
       "    </tr>\n",
       "    <tr>\n",
       "      <th>14</th>\n",
       "      <td>Astapor</td>\n",
       "      <td>1</td>\n",
       "      <td>2014-01-27</td>\n",
       "      <td>NaN</td>\n",
       "      <td>1.0</td>\n",
       "      <td>2014-01-28</td>\n",
       "      <td>Android</td>\n",
       "      <td>0.0</td>\n",
       "      <td>False</td>\n",
       "      <td>100.0</td>\n",
       "      <td>26.01</td>\n",
       "      <td>5.0</td>\n",
       "    </tr>\n",
       "    <tr>\n",
       "      <th>15</th>\n",
       "      <td>Winterfell</td>\n",
       "      <td>1</td>\n",
       "      <td>2014-01-15</td>\n",
       "      <td>NaN</td>\n",
       "      <td>1.0</td>\n",
       "      <td>2014-01-16</td>\n",
       "      <td>Android</td>\n",
       "      <td>0.0</td>\n",
       "      <td>True</td>\n",
       "      <td>100.0</td>\n",
       "      <td>13.20</td>\n",
       "      <td>5.0</td>\n",
       "    </tr>\n",
       "    <tr>\n",
       "      <th>...</th>\n",
       "      <td>...</td>\n",
       "      <td>...</td>\n",
       "      <td>...</td>\n",
       "      <td>...</td>\n",
       "      <td>...</td>\n",
       "      <td>...</td>\n",
       "      <td>...</td>\n",
       "      <td>...</td>\n",
       "      <td>...</td>\n",
       "      <td>...</td>\n",
       "      <td>...</td>\n",
       "      <td>...</td>\n",
       "    </tr>\n",
       "    <tr>\n",
       "      <th>49984</th>\n",
       "      <td>Winterfell</td>\n",
       "      <td>1</td>\n",
       "      <td>2014-01-26</td>\n",
       "      <td>NaN</td>\n",
       "      <td>1.0</td>\n",
       "      <td>2014-01-26</td>\n",
       "      <td>Android</td>\n",
       "      <td>0.0</td>\n",
       "      <td>False</td>\n",
       "      <td>0.0</td>\n",
       "      <td>3.50</td>\n",
       "      <td>5.0</td>\n",
       "    </tr>\n",
       "    <tr>\n",
       "      <th>49985</th>\n",
       "      <td>Astapor</td>\n",
       "      <td>1</td>\n",
       "      <td>2014-01-26</td>\n",
       "      <td>NaN</td>\n",
       "      <td>1.0</td>\n",
       "      <td>2014-02-25</td>\n",
       "      <td>Android</td>\n",
       "      <td>0.0</td>\n",
       "      <td>False</td>\n",
       "      <td>100.0</td>\n",
       "      <td>1.38</td>\n",
       "      <td>5.0</td>\n",
       "    </tr>\n",
       "    <tr>\n",
       "      <th>49989</th>\n",
       "      <td>Winterfell</td>\n",
       "      <td>1</td>\n",
       "      <td>2014-01-24</td>\n",
       "      <td>NaN</td>\n",
       "      <td>1.0</td>\n",
       "      <td>2014-01-31</td>\n",
       "      <td>iPhone</td>\n",
       "      <td>0.0</td>\n",
       "      <td>False</td>\n",
       "      <td>100.0</td>\n",
       "      <td>0.00</td>\n",
       "      <td>5.0</td>\n",
       "    </tr>\n",
       "    <tr>\n",
       "      <th>49996</th>\n",
       "      <td>Astapor</td>\n",
       "      <td>1</td>\n",
       "      <td>2014-01-24</td>\n",
       "      <td>NaN</td>\n",
       "      <td>1.0</td>\n",
       "      <td>2014-01-25</td>\n",
       "      <td>iPhone</td>\n",
       "      <td>0.0</td>\n",
       "      <td>False</td>\n",
       "      <td>0.0</td>\n",
       "      <td>0.00</td>\n",
       "      <td>4.0</td>\n",
       "    </tr>\n",
       "    <tr>\n",
       "      <th>49999</th>\n",
       "      <td>Astapor</td>\n",
       "      <td>0</td>\n",
       "      <td>2014-01-18</td>\n",
       "      <td>NaN</td>\n",
       "      <td>1.0</td>\n",
       "      <td>2014-04-20</td>\n",
       "      <td>Android</td>\n",
       "      <td>0.0</td>\n",
       "      <td>False</td>\n",
       "      <td>0.0</td>\n",
       "      <td>3.49</td>\n",
       "      <td>5.0</td>\n",
       "    </tr>\n",
       "  </tbody>\n",
       "</table>\n",
       "<p>8122 rows × 12 columns</p>\n",
       "</div>"
      ],
      "text/plain": [
       "             city  trips_in_first_30_days signup_date  avg_rating_of_driver  \\\n",
       "6         Astapor                       1  2014-01-24                   NaN   \n",
       "9      Winterfell                       1  2014-01-03                   NaN   \n",
       "12     Winterfell                       1  2014-01-15                   NaN   \n",
       "14        Astapor                       1  2014-01-27                   NaN   \n",
       "15     Winterfell                       1  2014-01-15                   NaN   \n",
       "...           ...                     ...         ...                   ...   \n",
       "49984  Winterfell                       1  2014-01-26                   NaN   \n",
       "49985     Astapor                       1  2014-01-26                   NaN   \n",
       "49989  Winterfell                       1  2014-01-24                   NaN   \n",
       "49996     Astapor                       1  2014-01-24                   NaN   \n",
       "49999     Astapor                       0  2014-01-18                   NaN   \n",
       "\n",
       "       avg_surge last_trip_date    phone  surge_pct  ultimate_black_user  \\\n",
       "6            1.0     2014-01-25  Android        0.0                False   \n",
       "9            1.0     2014-01-05  Android        0.0                False   \n",
       "12           1.0     2014-03-12   iPhone        0.0                False   \n",
       "14           1.0     2014-01-28  Android        0.0                False   \n",
       "15           1.0     2014-01-16  Android        0.0                 True   \n",
       "...          ...            ...      ...        ...                  ...   \n",
       "49984        1.0     2014-01-26  Android        0.0                False   \n",
       "49985        1.0     2014-02-25  Android        0.0                False   \n",
       "49989        1.0     2014-01-31   iPhone        0.0                False   \n",
       "49996        1.0     2014-01-25   iPhone        0.0                False   \n",
       "49999        1.0     2014-04-20  Android        0.0                False   \n",
       "\n",
       "       weekday_pct  avg_dist  avg_rating_by_driver  \n",
       "6            100.0      3.95                   4.0  \n",
       "9              0.0      2.37                   5.0  \n",
       "12           100.0     20.29                   5.0  \n",
       "14           100.0     26.01                   5.0  \n",
       "15           100.0     13.20                   5.0  \n",
       "...            ...       ...                   ...  \n",
       "49984          0.0      3.50                   5.0  \n",
       "49985        100.0      1.38                   5.0  \n",
       "49989        100.0      0.00                   5.0  \n",
       "49996          0.0      0.00                   4.0  \n",
       "49999          0.0      3.49                   5.0  \n",
       "\n",
       "[8122 rows x 12 columns]"
      ]
     },
     "execution_count": 10,
     "metadata": {},
     "output_type": "execute_result"
    }
   ],
   "source": [
    "df[df['avg_rating_of_driver'].isna()]"
   ]
  },
  {
   "cell_type": "code",
   "execution_count": 11,
   "id": "4fa2c54a",
   "metadata": {},
   "outputs": [
    {
     "data": {
      "text/html": [
       "<div>\n",
       "<style scoped>\n",
       "    .dataframe tbody tr th:only-of-type {\n",
       "        vertical-align: middle;\n",
       "    }\n",
       "\n",
       "    .dataframe tbody tr th {\n",
       "        vertical-align: top;\n",
       "    }\n",
       "\n",
       "    .dataframe thead th {\n",
       "        text-align: right;\n",
       "    }\n",
       "</style>\n",
       "<table border=\"1\" class=\"dataframe\">\n",
       "  <thead>\n",
       "    <tr style=\"text-align: right;\">\n",
       "      <th></th>\n",
       "      <th>city</th>\n",
       "      <th>trips_in_first_30_days</th>\n",
       "      <th>signup_date</th>\n",
       "      <th>avg_rating_of_driver</th>\n",
       "      <th>avg_surge</th>\n",
       "      <th>last_trip_date</th>\n",
       "      <th>phone</th>\n",
       "      <th>surge_pct</th>\n",
       "      <th>ultimate_black_user</th>\n",
       "      <th>weekday_pct</th>\n",
       "      <th>avg_dist</th>\n",
       "      <th>avg_rating_by_driver</th>\n",
       "    </tr>\n",
       "  </thead>\n",
       "  <tbody>\n",
       "    <tr>\n",
       "      <th>90</th>\n",
       "      <td>Winterfell</td>\n",
       "      <td>1</td>\n",
       "      <td>2014-01-10</td>\n",
       "      <td>5.0</td>\n",
       "      <td>1.0</td>\n",
       "      <td>2014-02-09</td>\n",
       "      <td>iPhone</td>\n",
       "      <td>0.0</td>\n",
       "      <td>False</td>\n",
       "      <td>0.0</td>\n",
       "      <td>6.28</td>\n",
       "      <td>NaN</td>\n",
       "    </tr>\n",
       "    <tr>\n",
       "      <th>274</th>\n",
       "      <td>Astapor</td>\n",
       "      <td>1</td>\n",
       "      <td>2014-01-25</td>\n",
       "      <td>2.0</td>\n",
       "      <td>4.0</td>\n",
       "      <td>2014-02-09</td>\n",
       "      <td>iPhone</td>\n",
       "      <td>100.0</td>\n",
       "      <td>False</td>\n",
       "      <td>0.0</td>\n",
       "      <td>6.00</td>\n",
       "      <td>NaN</td>\n",
       "    </tr>\n",
       "    <tr>\n",
       "      <th>277</th>\n",
       "      <td>Winterfell</td>\n",
       "      <td>1</td>\n",
       "      <td>2014-01-25</td>\n",
       "      <td>NaN</td>\n",
       "      <td>1.0</td>\n",
       "      <td>2014-01-26</td>\n",
       "      <td>iPhone</td>\n",
       "      <td>0.0</td>\n",
       "      <td>False</td>\n",
       "      <td>0.0</td>\n",
       "      <td>1.82</td>\n",
       "      <td>NaN</td>\n",
       "    </tr>\n",
       "    <tr>\n",
       "      <th>536</th>\n",
       "      <td>Winterfell</td>\n",
       "      <td>1</td>\n",
       "      <td>2014-01-18</td>\n",
       "      <td>5.0</td>\n",
       "      <td>1.0</td>\n",
       "      <td>2014-02-08</td>\n",
       "      <td>Android</td>\n",
       "      <td>0.0</td>\n",
       "      <td>False</td>\n",
       "      <td>100.0</td>\n",
       "      <td>1.41</td>\n",
       "      <td>NaN</td>\n",
       "    </tr>\n",
       "    <tr>\n",
       "      <th>857</th>\n",
       "      <td>Winterfell</td>\n",
       "      <td>0</td>\n",
       "      <td>2014-01-11</td>\n",
       "      <td>4.0</td>\n",
       "      <td>1.0</td>\n",
       "      <td>2014-03-16</td>\n",
       "      <td>iPhone</td>\n",
       "      <td>0.0</td>\n",
       "      <td>False</td>\n",
       "      <td>0.0</td>\n",
       "      <td>0.42</td>\n",
       "      <td>NaN</td>\n",
       "    </tr>\n",
       "    <tr>\n",
       "      <th>...</th>\n",
       "      <td>...</td>\n",
       "      <td>...</td>\n",
       "      <td>...</td>\n",
       "      <td>...</td>\n",
       "      <td>...</td>\n",
       "      <td>...</td>\n",
       "      <td>...</td>\n",
       "      <td>...</td>\n",
       "      <td>...</td>\n",
       "      <td>...</td>\n",
       "      <td>...</td>\n",
       "      <td>...</td>\n",
       "    </tr>\n",
       "    <tr>\n",
       "      <th>49249</th>\n",
       "      <td>King's Landing</td>\n",
       "      <td>0</td>\n",
       "      <td>2014-01-14</td>\n",
       "      <td>5.0</td>\n",
       "      <td>1.0</td>\n",
       "      <td>2014-06-19</td>\n",
       "      <td>iPhone</td>\n",
       "      <td>0.0</td>\n",
       "      <td>True</td>\n",
       "      <td>100.0</td>\n",
       "      <td>4.60</td>\n",
       "      <td>NaN</td>\n",
       "    </tr>\n",
       "    <tr>\n",
       "      <th>49376</th>\n",
       "      <td>Astapor</td>\n",
       "      <td>1</td>\n",
       "      <td>2014-01-20</td>\n",
       "      <td>4.0</td>\n",
       "      <td>1.0</td>\n",
       "      <td>2014-01-24</td>\n",
       "      <td>iPhone</td>\n",
       "      <td>0.0</td>\n",
       "      <td>False</td>\n",
       "      <td>100.0</td>\n",
       "      <td>3.01</td>\n",
       "      <td>NaN</td>\n",
       "    </tr>\n",
       "    <tr>\n",
       "      <th>49504</th>\n",
       "      <td>Winterfell</td>\n",
       "      <td>2</td>\n",
       "      <td>2014-01-24</td>\n",
       "      <td>5.0</td>\n",
       "      <td>1.0</td>\n",
       "      <td>2014-01-25</td>\n",
       "      <td>Android</td>\n",
       "      <td>0.0</td>\n",
       "      <td>False</td>\n",
       "      <td>100.0</td>\n",
       "      <td>0.75</td>\n",
       "      <td>NaN</td>\n",
       "    </tr>\n",
       "    <tr>\n",
       "      <th>49599</th>\n",
       "      <td>King's Landing</td>\n",
       "      <td>1</td>\n",
       "      <td>2014-01-14</td>\n",
       "      <td>5.0</td>\n",
       "      <td>1.0</td>\n",
       "      <td>2014-02-08</td>\n",
       "      <td>iPhone</td>\n",
       "      <td>0.0</td>\n",
       "      <td>False</td>\n",
       "      <td>100.0</td>\n",
       "      <td>2.48</td>\n",
       "      <td>NaN</td>\n",
       "    </tr>\n",
       "    <tr>\n",
       "      <th>49626</th>\n",
       "      <td>Winterfell</td>\n",
       "      <td>1</td>\n",
       "      <td>2014-01-11</td>\n",
       "      <td>5.0</td>\n",
       "      <td>1.0</td>\n",
       "      <td>2014-01-12</td>\n",
       "      <td>iPhone</td>\n",
       "      <td>0.0</td>\n",
       "      <td>False</td>\n",
       "      <td>0.0</td>\n",
       "      <td>6.00</td>\n",
       "      <td>NaN</td>\n",
       "    </tr>\n",
       "  </tbody>\n",
       "</table>\n",
       "<p>201 rows × 12 columns</p>\n",
       "</div>"
      ],
      "text/plain": [
       "                 city  trips_in_first_30_days signup_date  \\\n",
       "90         Winterfell                       1  2014-01-10   \n",
       "274           Astapor                       1  2014-01-25   \n",
       "277        Winterfell                       1  2014-01-25   \n",
       "536        Winterfell                       1  2014-01-18   \n",
       "857        Winterfell                       0  2014-01-11   \n",
       "...               ...                     ...         ...   \n",
       "49249  King's Landing                       0  2014-01-14   \n",
       "49376         Astapor                       1  2014-01-20   \n",
       "49504      Winterfell                       2  2014-01-24   \n",
       "49599  King's Landing                       1  2014-01-14   \n",
       "49626      Winterfell                       1  2014-01-11   \n",
       "\n",
       "       avg_rating_of_driver  avg_surge last_trip_date    phone  surge_pct  \\\n",
       "90                      5.0        1.0     2014-02-09   iPhone        0.0   \n",
       "274                     2.0        4.0     2014-02-09   iPhone      100.0   \n",
       "277                     NaN        1.0     2014-01-26   iPhone        0.0   \n",
       "536                     5.0        1.0     2014-02-08  Android        0.0   \n",
       "857                     4.0        1.0     2014-03-16   iPhone        0.0   \n",
       "...                     ...        ...            ...      ...        ...   \n",
       "49249                   5.0        1.0     2014-06-19   iPhone        0.0   \n",
       "49376                   4.0        1.0     2014-01-24   iPhone        0.0   \n",
       "49504                   5.0        1.0     2014-01-25  Android        0.0   \n",
       "49599                   5.0        1.0     2014-02-08   iPhone        0.0   \n",
       "49626                   5.0        1.0     2014-01-12   iPhone        0.0   \n",
       "\n",
       "       ultimate_black_user  weekday_pct  avg_dist  avg_rating_by_driver  \n",
       "90                   False          0.0      6.28                   NaN  \n",
       "274                  False          0.0      6.00                   NaN  \n",
       "277                  False          0.0      1.82                   NaN  \n",
       "536                  False        100.0      1.41                   NaN  \n",
       "857                  False          0.0      0.42                   NaN  \n",
       "...                    ...          ...       ...                   ...  \n",
       "49249                 True        100.0      4.60                   NaN  \n",
       "49376                False        100.0      3.01                   NaN  \n",
       "49504                False        100.0      0.75                   NaN  \n",
       "49599                False        100.0      2.48                   NaN  \n",
       "49626                False          0.0      6.00                   NaN  \n",
       "\n",
       "[201 rows x 12 columns]"
      ]
     },
     "execution_count": 11,
     "metadata": {},
     "output_type": "execute_result"
    }
   ],
   "source": [
    "df[df['avg_rating_by_driver'].isna()]"
   ]
  },
  {
   "cell_type": "markdown",
   "id": "0154c070",
   "metadata": {},
   "source": [
    "In the case of 'avg_rating_of_driver' and 'avg_rating_by_driver', the missing values most likely indicate that the customer either never rated their driver(s) or never received a rating from their driver(s). We can replace these missing values with the average value for each column. "
   ]
  },
  {
   "cell_type": "code",
   "execution_count": 5,
   "id": "27dea21a",
   "metadata": {},
   "outputs": [],
   "source": [
    "df.fillna({'avg_rating_of_driver': df['avg_rating_of_driver'].mean(), \n",
    "           'phone' : 'no phone', \n",
    "           'avg_rating_by_driver' : df['avg_rating_by_driver'].mean()}, inplace=True)"
   ]
  },
  {
   "cell_type": "code",
   "execution_count": 6,
   "id": "e586af80",
   "metadata": {},
   "outputs": [
    {
     "data": {
      "text/plain": [
       "city                      0\n",
       "trips_in_first_30_days    0\n",
       "signup_date               0\n",
       "avg_rating_of_driver      0\n",
       "avg_surge                 0\n",
       "last_trip_date            0\n",
       "phone                     0\n",
       "surge_pct                 0\n",
       "ultimate_black_user       0\n",
       "weekday_pct               0\n",
       "avg_dist                  0\n",
       "avg_rating_by_driver      0\n",
       "dtype: int64"
      ]
     },
     "execution_count": 6,
     "metadata": {},
     "output_type": "execute_result"
    }
   ],
   "source": [
    "df.isna().sum()"
   ]
  },
  {
   "cell_type": "markdown",
   "id": "87b63a50",
   "metadata": {},
   "source": [
    "Next we need to reate a column indicating whether or not each customer was retained (i.e., whether they use the app in the month of June). Performing a value count on this column shows that 37.6% of users were retained. "
   ]
  },
  {
   "cell_type": "code",
   "execution_count": 7,
   "id": "069e6dfa",
   "metadata": {},
   "outputs": [],
   "source": [
    "df['retained'] = df['last_trip_date'] >= dt.datetime(2014, 6, 1)\n",
    "df.drop(columns=['last_trip_date', 'signup_date'], inplace=True)"
   ]
  },
  {
   "cell_type": "code",
   "execution_count": 8,
   "id": "a6cf29b0",
   "metadata": {},
   "outputs": [
    {
     "data": {
      "text/plain": [
       "False    0.62392\n",
       "True     0.37608\n",
       "Name: retained, dtype: float64"
      ]
     },
     "execution_count": 8,
     "metadata": {},
     "output_type": "execute_result"
    }
   ],
   "source": [
    "df['retained'].value_counts(normalize=True)"
   ]
  },
  {
   "cell_type": "markdown",
   "id": "f8bc2272",
   "metadata": {},
   "source": [
    "Finally, we should check whether any of the columns are correlated by plotting a heatmap of the correlation matrix. "
   ]
  },
  {
   "cell_type": "code",
   "execution_count": 9,
   "id": "c19ee72a",
   "metadata": {},
   "outputs": [
    {
     "data": {
      "image/png": "[encoded data removed]",
      "text/plain": [
       "<Figure size 432x288 with 2 Axes>"
      ]
     },
     "metadata": {
      "needs_background": "light"
     },
     "output_type": "display_data"
    }
   ],
   "source": [
    "sns.heatmap(df.corr())\n",
    "plt.show();"
   ]
  },
  {
   "cell_type": "markdown",
   "id": "86e5e837",
   "metadata": {},
   "source": [
    "Unsurprisingly, 'avg_surge' and 'surge_pct' are highly correlated, so we can safely exclude one of these columns from the analysis. "
   ]
  },
  {
   "cell_type": "code",
   "execution_count": 10,
   "id": "f6b86771",
   "metadata": {},
   "outputs": [],
   "source": [
    "df.drop(columns='avg_surge', inplace=True)"
   ]
  },
  {
   "cell_type": "markdown",
   "id": "65cb2092",
   "metadata": {},
   "source": [
    "# Exploratory Data Analysis"
   ]
  },
  {
   "cell_type": "markdown",
   "id": "5ba826ff",
   "metadata": {},
   "source": [
    "We'll start exploratory data analysis by graphing the categorical variables to see whether there is any difference in retention rates between various demographic groups (e.g., inhabitants of different cities). "
   ]
  },
  {
   "cell_type": "code",
   "execution_count": 11,
   "id": "68c235f8",
   "metadata": {},
   "outputs": [
    {
     "data": {
      "image/png": "[encoded data removed]",
      "text/plain": [
       "<Figure size 432x288 with 1 Axes>"
      ]
     },
     "metadata": {
      "needs_background": "light"
     },
     "output_type": "display_data"
    }
   ],
   "source": [
    "sns.barplot(x='city', y='retained', data=df)\n",
    "plt.title(\"Retention Rates among Inhabitants of Different Cities\")\n",
    "plt.show();"
   ]
  },
  {
   "cell_type": "code",
   "execution_count": 13,
   "id": "1d7f7601",
   "metadata": {},
   "outputs": [
    {
     "data": {
      "image/png": "[encoded data removed]",
      "text/plain": [
       "<Figure size 432x288 with 1 Axes>"
      ]
     },
     "metadata": {
      "needs_background": "light"
     },
     "output_type": "display_data"
    }
   ],
   "source": [
    "sns.barplot(x='phone', y='retained', data=df)\n",
    "plt.title(\"Retention Rates by Phone Type\")\n",
    "plt.show();"
   ]
  },
  {
   "cell_type": "code",
   "execution_count": 12,
   "id": "26f6f80b",
   "metadata": {},
   "outputs": [
    {
     "data": {
      "image/png": "[encoded data removed]",
      "text/plain": [
       "<Figure size 432x288 with 1 Axes>"
      ]
     },
     "metadata": {
      "needs_background": "light"
     },
     "output_type": "display_data"
    }
   ],
   "source": [
    "sns.barplot(x='ultimate_black_user', y='retained', data=df)\n",
    "plt.title(\"Retention Rates by Ultimate Black Status\")\n",
    "plt.show();"
   ]
  },
  {
   "cell_type": "markdown",
   "id": "d933a2f1",
   "metadata": {},
   "source": [
    "It looks like there are differences in retention rates for each of the three demographic categories; we should retain these variables for the modeling stage. Next let's check there is a difference between retained and non-retained customers for each numerical category. "
   ]
  },
  {
   "cell_type": "code",
   "execution_count": 14,
   "id": "0a81127e",
   "metadata": {},
   "outputs": [],
   "source": [
    "df_retained = df[df['retained'] == True].drop(columns = ['city', 'phone', 'ultimate_black_user'])\n",
    "df_left = df[df['retained'] == False].drop(columns = ['city', 'phone', 'ultimate_black_user'])"
   ]
  },
  {
   "cell_type": "code",
   "execution_count": 15,
   "id": "e4c44f65",
   "metadata": {},
   "outputs": [
    {
     "data": {
      "text/html": [
       "<div>\n",
       "<style scoped>\n",
       "    .dataframe tbody tr th:only-of-type {\n",
       "        vertical-align: middle;\n",
       "    }\n",
       "\n",
       "    .dataframe tbody tr th {\n",
       "        vertical-align: top;\n",
       "    }\n",
       "\n",
       "    .dataframe thead th {\n",
       "        text-align: right;\n",
       "    }\n",
       "</style>\n",
       "<table border=\"1\" class=\"dataframe\">\n",
       "  <thead>\n",
       "    <tr style=\"text-align: right;\">\n",
       "      <th></th>\n",
       "      <th>trips_in_first_30_days</th>\n",
       "      <th>avg_rating_of_driver</th>\n",
       "      <th>surge_pct</th>\n",
       "      <th>weekday_pct</th>\n",
       "      <th>avg_dist</th>\n",
       "      <th>avg_rating_by_driver</th>\n",
       "    </tr>\n",
       "  </thead>\n",
       "  <tbody>\n",
       "    <tr>\n",
       "      <th>count</th>\n",
       "      <td>18804.000000</td>\n",
       "      <td>18804.000000</td>\n",
       "      <td>18804.000000</td>\n",
       "      <td>18804.000000</td>\n",
       "      <td>18804.000000</td>\n",
       "      <td>18804.000000</td>\n",
       "    </tr>\n",
       "    <tr>\n",
       "      <th>mean</th>\n",
       "      <td>3.306318</td>\n",
       "      <td>4.593679</td>\n",
       "      <td>9.152797</td>\n",
       "      <td>61.389034</td>\n",
       "      <td>5.114788</td>\n",
       "      <td>4.762801</td>\n",
       "    </tr>\n",
       "    <tr>\n",
       "      <th>std</th>\n",
       "      <td>4.986743</td>\n",
       "      <td>0.518319</td>\n",
       "      <td>15.588704</td>\n",
       "      <td>29.487584</td>\n",
       "      <td>4.615175</td>\n",
       "      <td>0.328175</td>\n",
       "    </tr>\n",
       "    <tr>\n",
       "      <th>min</th>\n",
       "      <td>0.000000</td>\n",
       "      <td>1.000000</td>\n",
       "      <td>0.000000</td>\n",
       "      <td>0.000000</td>\n",
       "      <td>0.000000</td>\n",
       "      <td>1.000000</td>\n",
       "    </tr>\n",
       "    <tr>\n",
       "      <th>25%</th>\n",
       "      <td>0.000000</td>\n",
       "      <td>4.400000</td>\n",
       "      <td>0.000000</td>\n",
       "      <td>44.400000</td>\n",
       "      <td>2.560000</td>\n",
       "      <td>4.700000</td>\n",
       "    </tr>\n",
       "    <tr>\n",
       "      <th>50%</th>\n",
       "      <td>2.000000</td>\n",
       "      <td>4.700000</td>\n",
       "      <td>0.000000</td>\n",
       "      <td>64.300000</td>\n",
       "      <td>3.730000</td>\n",
       "      <td>4.800000</td>\n",
       "    </tr>\n",
       "    <tr>\n",
       "      <th>75%</th>\n",
       "      <td>4.000000</td>\n",
       "      <td>5.000000</td>\n",
       "      <td>13.300000</td>\n",
       "      <td>84.600000</td>\n",
       "      <td>5.890000</td>\n",
       "      <td>5.000000</td>\n",
       "    </tr>\n",
       "    <tr>\n",
       "      <th>max</th>\n",
       "      <td>125.000000</td>\n",
       "      <td>5.000000</td>\n",
       "      <td>100.000000</td>\n",
       "      <td>100.000000</td>\n",
       "      <td>160.960000</td>\n",
       "      <td>5.000000</td>\n",
       "    </tr>\n",
       "  </tbody>\n",
       "</table>\n",
       "</div>"
      ],
      "text/plain": [
       "       trips_in_first_30_days  avg_rating_of_driver     surge_pct  \\\n",
       "count            18804.000000          18804.000000  18804.000000   \n",
       "mean                 3.306318              4.593679      9.152797   \n",
       "std                  4.986743              0.518319     15.588704   \n",
       "min                  0.000000              1.000000      0.000000   \n",
       "25%                  0.000000              4.400000      0.000000   \n",
       "50%                  2.000000              4.700000      0.000000   \n",
       "75%                  4.000000              5.000000     13.300000   \n",
       "max                125.000000              5.000000    100.000000   \n",
       "\n",
       "        weekday_pct      avg_dist  avg_rating_by_driver  \n",
       "count  18804.000000  18804.000000          18804.000000  \n",
       "mean      61.389034      5.114788              4.762801  \n",
       "std       29.487584      4.615175              0.328175  \n",
       "min        0.000000      0.000000              1.000000  \n",
       "25%       44.400000      2.560000              4.700000  \n",
       "50%       64.300000      3.730000              4.800000  \n",
       "75%       84.600000      5.890000              5.000000  \n",
       "max      100.000000    160.960000              5.000000  "
      ]
     },
     "execution_count": 15,
     "metadata": {},
     "output_type": "execute_result"
    }
   ],
   "source": [
    "df_retained.describe()"
   ]
  },
  {
   "cell_type": "code",
   "execution_count": 16,
   "id": "cc10d599",
   "metadata": {},
   "outputs": [
    {
     "data": {
      "text/html": [
       "<div>\n",
       "<style scoped>\n",
       "    .dataframe tbody tr th:only-of-type {\n",
       "        vertical-align: middle;\n",
       "    }\n",
       "\n",
       "    .dataframe tbody tr th {\n",
       "        vertical-align: top;\n",
       "    }\n",
       "\n",
       "    .dataframe thead th {\n",
       "        text-align: right;\n",
       "    }\n",
       "</style>\n",
       "<table border=\"1\" class=\"dataframe\">\n",
       "  <thead>\n",
       "    <tr style=\"text-align: right;\">\n",
       "      <th></th>\n",
       "      <th>trips_in_first_30_days</th>\n",
       "      <th>avg_rating_of_driver</th>\n",
       "      <th>surge_pct</th>\n",
       "      <th>weekday_pct</th>\n",
       "      <th>avg_dist</th>\n",
       "      <th>avg_rating_by_driver</th>\n",
       "    </tr>\n",
       "  </thead>\n",
       "  <tbody>\n",
       "    <tr>\n",
       "      <th>count</th>\n",
       "      <td>31196.000000</td>\n",
       "      <td>31196.000000</td>\n",
       "      <td>31196.000000</td>\n",
       "      <td>31196.000000</td>\n",
       "      <td>31196.000000</td>\n",
       "      <td>31196.000000</td>\n",
       "    </tr>\n",
       "    <tr>\n",
       "      <th>mean</th>\n",
       "      <td>1.658482</td>\n",
       "      <td>4.606309</td>\n",
       "      <td>8.666739</td>\n",
       "      <td>60.647032</td>\n",
       "      <td>6.207939</td>\n",
       "      <td>4.787415</td>\n",
       "    </tr>\n",
       "    <tr>\n",
       "      <th>std</th>\n",
       "      <td>2.654222</td>\n",
       "      <td>0.591282</td>\n",
       "      <td>22.179139</td>\n",
       "      <td>40.982688</td>\n",
       "      <td>6.238675</td>\n",
       "      <td>0.503312</td>\n",
       "    </tr>\n",
       "    <tr>\n",
       "      <th>min</th>\n",
       "      <td>0.000000</td>\n",
       "      <td>1.000000</td>\n",
       "      <td>0.000000</td>\n",
       "      <td>0.000000</td>\n",
       "      <td>0.000000</td>\n",
       "      <td>1.000000</td>\n",
       "    </tr>\n",
       "    <tr>\n",
       "      <th>25%</th>\n",
       "      <td>0.000000</td>\n",
       "      <td>4.500000</td>\n",
       "      <td>0.000000</td>\n",
       "      <td>16.700000</td>\n",
       "      <td>2.320000</td>\n",
       "      <td>4.800000</td>\n",
       "    </tr>\n",
       "    <tr>\n",
       "      <th>50%</th>\n",
       "      <td>1.000000</td>\n",
       "      <td>4.800000</td>\n",
       "      <td>0.000000</td>\n",
       "      <td>69.600000</td>\n",
       "      <td>4.030000</td>\n",
       "      <td>5.000000</td>\n",
       "    </tr>\n",
       "    <tr>\n",
       "      <th>75%</th>\n",
       "      <td>2.000000</td>\n",
       "      <td>5.000000</td>\n",
       "      <td>0.000000</td>\n",
       "      <td>100.000000</td>\n",
       "      <td>7.800000</td>\n",
       "      <td>5.000000</td>\n",
       "    </tr>\n",
       "    <tr>\n",
       "      <th>max</th>\n",
       "      <td>73.000000</td>\n",
       "      <td>5.000000</td>\n",
       "      <td>100.000000</td>\n",
       "      <td>100.000000</td>\n",
       "      <td>129.890000</td>\n",
       "      <td>5.000000</td>\n",
       "    </tr>\n",
       "  </tbody>\n",
       "</table>\n",
       "</div>"
      ],
      "text/plain": [
       "       trips_in_first_30_days  avg_rating_of_driver     surge_pct  \\\n",
       "count            31196.000000          31196.000000  31196.000000   \n",
       "mean                 1.658482              4.606309      8.666739   \n",
       "std                  2.654222              0.591282     22.179139   \n",
       "min                  0.000000              1.000000      0.000000   \n",
       "25%                  0.000000              4.500000      0.000000   \n",
       "50%                  1.000000              4.800000      0.000000   \n",
       "75%                  2.000000              5.000000      0.000000   \n",
       "max                 73.000000              5.000000    100.000000   \n",
       "\n",
       "        weekday_pct      avg_dist  avg_rating_by_driver  \n",
       "count  31196.000000  31196.000000          31196.000000  \n",
       "mean      60.647032      6.207939              4.787415  \n",
       "std       40.982688      6.238675              0.503312  \n",
       "min        0.000000      0.000000              1.000000  \n",
       "25%       16.700000      2.320000              4.800000  \n",
       "50%       69.600000      4.030000              5.000000  \n",
       "75%      100.000000      7.800000              5.000000  \n",
       "max      100.000000    129.890000              5.000000  "
      ]
     },
     "execution_count": 16,
     "metadata": {},
     "output_type": "execute_result"
    }
   ],
   "source": [
    "df_left.describe()"
   ]
  },
  {
   "cell_type": "code",
   "execution_count": 17,
   "id": "b27f80f0",
   "metadata": {},
   "outputs": [
    {
     "data": {
      "text/plain": [
       "trips_in_first_30_days    1.647836\n",
       "avg_rating_of_driver     -0.012630\n",
       "surge_pct                 0.486058\n",
       "weekday_pct               0.742003\n",
       "avg_dist                 -1.093150\n",
       "avg_rating_by_driver     -0.024614\n",
       "Name: mean, dtype: float64"
      ]
     },
     "execution_count": 17,
     "metadata": {},
     "output_type": "execute_result"
    }
   ],
   "source": [
    "difference = df_retained.describe() - df_left.describe()\n",
    "\n",
    "difference.loc['mean']"
   ]
  },
  {
   "cell_type": "markdown",
   "id": "ec241b97",
   "metadata": {},
   "source": [
    "There is a difference between the two groups for each numerical category, but it's hard to tell whether these differences are statistically significant. To check whether this is the case, I defined a helper function that calculates bootstrap samples of the difference in mean values between retained and left for a given column, plots a histogram of the bootstraps along with the observed difference, and returns the p-value of the observed value. This function will help me preform hypothesis tests on each of the variables under consideration. In every case, the null hypothesis is that there is no difference in the mean values between retained and left; the alternative hypothesis is that there is a difference.   "
   ]
  },
  {
   "cell_type": "code",
   "execution_count": 18,
   "id": "852cf2ae",
   "metadata": {},
   "outputs": [],
   "source": [
    "def graph_bootstraps(col, n):\n",
    "    diffs = np.empty(n)\n",
    "    for i in range(n):\n",
    "        df_new = df.drop(columns=col)\n",
    "        df_new[col] = df[col].sample(n=50000, replace=True).reset_index(drop=True)\n",
    "        diffs[i] = df_new[df_new['retained'] == True][col].mean() - df_new[df_new['retained'] == False][col].mean()\n",
    "        observed = df_retained['trips_in_first_30_days'].mean() - df_left['trips_in_first_30_days'].mean()\n",
    "    observed = df_retained[col].mean() - df_left[col].mean()\n",
    "    p = len(diffs[diffs >= observed])/len(diffs)\n",
    "    plt.hist(diffs)\n",
    "    plt.vlines(x=observed, ymin=0, ymax=3000, color='red', linestyle='--', label=f\"p = {p}\")\n",
    "    plt.xlabel(f\"Differences in the average of {col} between retained and non-retained customers\")\n",
    "    plt.legend()\n",
    "    plt.show();"
   ]
  },
  {
   "cell_type": "code",
   "execution_count": 19,
   "id": "4c853cf7",
   "metadata": {},
   "outputs": [
    {
     "data": {
      "image/png": "[encoded data removed]",
      "text/plain": [
       "<Figure size 432x288 with 1 Axes>"
      ]
     },
     "metadata": {
      "needs_background": "light"
     },
     "output_type": "display_data"
    }
   ],
   "source": [
    "graph_bootstraps('trips_in_first_30_days', 10000)"
   ]
  },
  {
   "cell_type": "code",
   "execution_count": 20,
   "id": "573e11cc",
   "metadata": {},
   "outputs": [
    {
     "data": {
      "image/png": "[encoded data removed]",
      "text/plain": [
       "<Figure size 432x288 with 1 Axes>"
      ]
     },
     "metadata": {
      "needs_background": "light"
     },
     "output_type": "display_data"
    }
   ],
   "source": [
    "graph_bootstraps('avg_dist', 10000)"
   ]
  },
  {
   "cell_type": "code",
   "execution_count": 21,
   "id": "7a939978",
   "metadata": {},
   "outputs": [
    {
     "data": {
      "image/png": "[encoded data removed]",
      "text/plain": [
       "<Figure size 432x288 with 1 Axes>"
      ]
     },
     "metadata": {
      "needs_background": "light"
     },
     "output_type": "display_data"
    }
   ],
   "source": [
    "graph_bootstraps('weekday_pct', 10000)"
   ]
  },
  {
   "cell_type": "code",
   "execution_count": 22,
   "id": "4cf6f4db",
   "metadata": {},
   "outputs": [
    {
     "data": {
      "image/png": "[encoded data removed]",
      "text/plain": [
       "<Figure size 432x288 with 1 Axes>"
      ]
     },
     "metadata": {
      "needs_background": "light"
     },
     "output_type": "display_data"
    }
   ],
   "source": [
    "graph_bootstraps('surge_pct', 10000)"
   ]
  },
  {
   "cell_type": "code",
   "execution_count": 23,
   "id": "8fbc376e",
   "metadata": {},
   "outputs": [
    {
     "data": {
      "image/png": "[encoded data removed]",
      "text/plain": [
       "<Figure size 432x288 with 1 Axes>"
      ]
     },
     "metadata": {
      "needs_background": "light"
     },
     "output_type": "display_data"
    }
   ],
   "source": [
    "graph_bootstraps('avg_rating_of_driver', 10000) "
   ]
  },
  {
   "cell_type": "code",
   "execution_count": 24,
   "id": "e75f2dcd",
   "metadata": {},
   "outputs": [
    {
     "data": {
      "image/png": "[encoded data removed]",
      "text/plain": [
       "<Figure size 432x288 with 1 Axes>"
      ]
     },
     "metadata": {
      "needs_background": "light"
     },
     "output_type": "display_data"
    }
   ],
   "source": [
    "graph_bootstraps('avg_rating_by_driver', 10000) "
   ]
  },
  {
   "cell_type": "markdown",
   "id": "d07b2734",
   "metadata": {},
   "source": [
    "We can reject the null hypothesis in the case of 'trips_in_first_30_days', 'avg_dist', 'weekday_pct', 'surge_pct', 'avg_rating_of_driver', and 'avg_rating_by_driver' with a p-value of < .0001, < .0001, .0126, .0037, .0081, and < .0001 respectively. This means that the difference in average value between the two groups is statistically significant for all of the numerical variables. Accordingly, we should retain these variables in the modeling stage. "
   ]
  },
  {
   "cell_type": "markdown",
   "id": "c5aa4c31",
   "metadata": {},
   "source": [
    "# Modeling"
   ]
  },
  {
   "cell_type": "markdown",
   "id": "51f675af",
   "metadata": {},
   "source": [
    "We'll start the modeling process by encoding the categorical variables and dividing the data in train and test sets. "
   ]
  },
  {
   "cell_type": "code",
   "execution_count": 27,
   "id": "eb2878d1",
   "metadata": {},
   "outputs": [],
   "source": [
    "df_dummies = pd.get_dummies(df, drop_first=True)\n",
    "df_dummies.replace({True : 1, False : 0}, inplace=True)"
   ]
  },
  {
   "cell_type": "code",
   "execution_count": 28,
   "id": "a228a609",
   "metadata": {},
   "outputs": [
    {
     "data": {
      "text/html": [
       "<div>\n",
       "<style scoped>\n",
       "    .dataframe tbody tr th:only-of-type {\n",
       "        vertical-align: middle;\n",
       "    }\n",
       "\n",
       "    .dataframe tbody tr th {\n",
       "        vertical-align: top;\n",
       "    }\n",
       "\n",
       "    .dataframe thead th {\n",
       "        text-align: right;\n",
       "    }\n",
       "</style>\n",
       "<table border=\"1\" class=\"dataframe\">\n",
       "  <thead>\n",
       "    <tr style=\"text-align: right;\">\n",
       "      <th></th>\n",
       "      <th>trips_in_first_30_days</th>\n",
       "      <th>avg_rating_of_driver</th>\n",
       "      <th>surge_pct</th>\n",
       "      <th>ultimate_black_user</th>\n",
       "      <th>weekday_pct</th>\n",
       "      <th>avg_dist</th>\n",
       "      <th>avg_rating_by_driver</th>\n",
       "      <th>retained</th>\n",
       "      <th>city_King's Landing</th>\n",
       "      <th>city_Winterfell</th>\n",
       "      <th>phone_iPhone</th>\n",
       "      <th>phone_no phone</th>\n",
       "    </tr>\n",
       "  </thead>\n",
       "  <tbody>\n",
       "    <tr>\n",
       "      <th>0</th>\n",
       "      <td>4</td>\n",
       "      <td>4.7</td>\n",
       "      <td>15.4</td>\n",
       "      <td>1</td>\n",
       "      <td>46.2</td>\n",
       "      <td>3.67</td>\n",
       "      <td>5.0</td>\n",
       "      <td>1</td>\n",
       "      <td>1</td>\n",
       "      <td>0</td>\n",
       "      <td>1</td>\n",
       "      <td>0</td>\n",
       "    </tr>\n",
       "    <tr>\n",
       "      <th>1</th>\n",
       "      <td>0</td>\n",
       "      <td>5.0</td>\n",
       "      <td>0.0</td>\n",
       "      <td>0</td>\n",
       "      <td>50.0</td>\n",
       "      <td>8.26</td>\n",
       "      <td>5.0</td>\n",
       "      <td>0</td>\n",
       "      <td>0</td>\n",
       "      <td>0</td>\n",
       "      <td>0</td>\n",
       "      <td>0</td>\n",
       "    </tr>\n",
       "    <tr>\n",
       "      <th>2</th>\n",
       "      <td>3</td>\n",
       "      <td>4.3</td>\n",
       "      <td>0.0</td>\n",
       "      <td>0</td>\n",
       "      <td>100.0</td>\n",
       "      <td>0.77</td>\n",
       "      <td>5.0</td>\n",
       "      <td>0</td>\n",
       "      <td>0</td>\n",
       "      <td>0</td>\n",
       "      <td>1</td>\n",
       "      <td>0</td>\n",
       "    </tr>\n",
       "    <tr>\n",
       "      <th>3</th>\n",
       "      <td>9</td>\n",
       "      <td>4.6</td>\n",
       "      <td>20.0</td>\n",
       "      <td>1</td>\n",
       "      <td>80.0</td>\n",
       "      <td>2.36</td>\n",
       "      <td>4.9</td>\n",
       "      <td>1</td>\n",
       "      <td>1</td>\n",
       "      <td>0</td>\n",
       "      <td>1</td>\n",
       "      <td>0</td>\n",
       "    </tr>\n",
       "    <tr>\n",
       "      <th>4</th>\n",
       "      <td>14</td>\n",
       "      <td>4.4</td>\n",
       "      <td>11.8</td>\n",
       "      <td>0</td>\n",
       "      <td>82.4</td>\n",
       "      <td>3.13</td>\n",
       "      <td>4.9</td>\n",
       "      <td>0</td>\n",
       "      <td>0</td>\n",
       "      <td>1</td>\n",
       "      <td>0</td>\n",
       "      <td>0</td>\n",
       "    </tr>\n",
       "  </tbody>\n",
       "</table>\n",
       "</div>"
      ],
      "text/plain": [
       "   trips_in_first_30_days  avg_rating_of_driver  surge_pct  \\\n",
       "0                       4                   4.7       15.4   \n",
       "1                       0                   5.0        0.0   \n",
       "2                       3                   4.3        0.0   \n",
       "3                       9                   4.6       20.0   \n",
       "4                      14                   4.4       11.8   \n",
       "\n",
       "   ultimate_black_user  weekday_pct  avg_dist  avg_rating_by_driver  retained  \\\n",
       "0                    1         46.2      3.67                   5.0         1   \n",
       "1                    0         50.0      8.26                   5.0         0   \n",
       "2                    0        100.0      0.77                   5.0         0   \n",
       "3                    1         80.0      2.36                   4.9         1   \n",
       "4                    0         82.4      3.13                   4.9         0   \n",
       "\n",
       "   city_King's Landing  city_Winterfell  phone_iPhone  phone_no phone  \n",
       "0                    1                0             1               0  \n",
       "1                    0                0             0               0  \n",
       "2                    0                0             1               0  \n",
       "3                    1                0             1               0  \n",
       "4                    0                1             0               0  "
      ]
     },
     "execution_count": 28,
     "metadata": {},
     "output_type": "execute_result"
    }
   ],
   "source": [
    "df_dummies.head()"
   ]
  },
  {
   "cell_type": "code",
   "execution_count": 29,
   "id": "65f760b4",
   "metadata": {},
   "outputs": [],
   "source": [
    "X = df_dummies.drop(columns='retained')\n",
    "y = df_dummies[['retained']]\n",
    "X_train, X_test, y_train, y_test = train_test_split(X, y, test_size=.3, random_state=42)"
   ]
  },
  {
   "cell_type": "markdown",
   "id": "cabc7bd6",
   "metadata": {},
   "source": [
    "Because the data contain a mix of categorical and numeric variables, a tree-based classifier is well suited to the problem. Here I've opted for a random forest classifier due to its greater predictive power compared to individual decision trees; other possiblibilities to try in the future include Ada Boosting or Gradient Boosting. I will tune the model using Bayesian Optimization since it is more computationally efficient than either Grid Search or Random Search. I've chosen the f1-score as the scoring metric because we would like for the model to identify as many potentially loyal customers as possible (i.e., have high recall) without making many mistakes (i.e., have high precision). As the harmonic mean of precision and recall, the f1 score takes both of these metrics into account. "
   ]
  },
  {
   "cell_type": "code",
   "execution_count": 35,
   "id": "647a6088",
   "metadata": {},
   "outputs": [
    {
     "name": "stdout",
     "output_type": "stream",
     "text": [
      "|   iter    |  target   | max_depth | max_fe... | n_esti... |\n",
      "-------------------------------------------------------------\n",
      "| \u001b[0m 1       \u001b[0m | \u001b[0m 0.6751  \u001b[0m | \u001b[0m 25.41   \u001b[0m | \u001b[0m 1.396   \u001b[0m | \u001b[0m 822.8   \u001b[0m |\n",
      "| \u001b[95m 2       \u001b[0m | \u001b[95m 0.6764  \u001b[0m | \u001b[95m 64.26   \u001b[0m | \u001b[95m 2.287   \u001b[0m | \u001b[95m 1.608e+0\u001b[0m |\n",
      "| \u001b[0m 3       \u001b[0m | \u001b[0m 0.6745  \u001b[0m | \u001b[0m 65.1    \u001b[0m | \u001b[0m 1.942   \u001b[0m | \u001b[0m 1.612e+0\u001b[0m |\n",
      "| \u001b[0m 4       \u001b[0m | \u001b[0m 0.6756  \u001b[0m | \u001b[0m 62.11   \u001b[0m | \u001b[0m 3.928   \u001b[0m | \u001b[0m 619.7   \u001b[0m |\n",
      "| \u001b[95m 5       \u001b[0m | \u001b[95m 0.6768  \u001b[0m | \u001b[95m 97.26   \u001b[0m | \u001b[95m 3.458   \u001b[0m | \u001b[95m 813.4   \u001b[0m |\n",
      "| \u001b[0m 6       \u001b[0m | \u001b[0m 0.6752  \u001b[0m | \u001b[0m 5.573   \u001b[0m | \u001b[0m 4.93    \u001b[0m | \u001b[0m 1.355e+0\u001b[0m |\n",
      "| \u001b[0m 7       \u001b[0m | \u001b[0m 0.6762  \u001b[0m | \u001b[0m 62.85   \u001b[0m | \u001b[0m 2.747   \u001b[0m | \u001b[0m 1.61e+03\u001b[0m |\n",
      "| \u001b[0m 8       \u001b[0m | \u001b[0m 0.6759  \u001b[0m | \u001b[0m 65.73   \u001b[0m | \u001b[0m 2.641   \u001b[0m | \u001b[0m 1.606e+0\u001b[0m |\n",
      "| \u001b[0m 9       \u001b[0m | \u001b[0m 0.6764  \u001b[0m | \u001b[0m 96.23   \u001b[0m | \u001b[0m 3.688   \u001b[0m | \u001b[0m 813.7   \u001b[0m |\n",
      "| \u001b[0m 10      \u001b[0m | \u001b[0m 0.6741  \u001b[0m | \u001b[0m 98.29   \u001b[0m | \u001b[0m 1.227   \u001b[0m | \u001b[0m 816.2   \u001b[0m |\n",
      "| \u001b[0m 11      \u001b[0m | \u001b[0m 0.6762  \u001b[0m | \u001b[0m 61.35   \u001b[0m | \u001b[0m 2.081   \u001b[0m | \u001b[0m 1.61e+03\u001b[0m |\n",
      "| \u001b[0m 12      \u001b[0m | \u001b[0m 0.6746  \u001b[0m | \u001b[0m 61.57   \u001b[0m | \u001b[0m 1.391   \u001b[0m | \u001b[0m 1.607e+0\u001b[0m |\n",
      "=============================================================\n"
     ]
    }
   ],
   "source": [
    "warnings.filterwarnings(\"ignore\")\n",
    "\n",
    "def rf_eval(n_estimators, max_depth, max_features):\n",
    "    \n",
    "    params = {'n_estimators' : int(n_estimators), \n",
    "              'max_depth' : int(max_depth), \n",
    "              'max_features' : int(max_features)}\n",
    "    scores = cross_val_score(RandomForestClassifier(**params), \n",
    "                             X_train, \n",
    "                             y_train, \n",
    "                             scoring='f1', \n",
    "                             cv=5)\n",
    "    score = scores.mean()\n",
    "    \n",
    "    return score\n",
    "\n",
    "rf_BO = BayesianOptimization(rf_eval, {'n_estimators' : (200, 2000), \n",
    "                                       'max_depth' : (1, 100) , \n",
    "                                       'max_features' : (1, 5)})\n",
    "\n",
    "rf_BO.maximize(n_iter=10, init_points=2)\n",
    "\n"
   ]
  },
  {
   "cell_type": "markdown",
   "id": "e554a6b3",
   "metadata": {},
   "source": [
    "The best random forest model had a max_depth of 97, max_features of 3, and 813 estimators and achieved an f1 score of .6768 on the training set. Let's see how it performs on the test set.  "
   ]
  },
  {
   "cell_type": "code",
   "execution_count": 36,
   "id": "bc960c1e",
   "metadata": {},
   "outputs": [],
   "source": [
    "best_params = rf_BO.max"
   ]
  },
  {
   "cell_type": "code",
   "execution_count": 37,
   "id": "c731e11d",
   "metadata": {},
   "outputs": [],
   "source": [
    "rf = RandomForestClassifier(n_estimators = int(best_params['params']['n_estimators']),\n",
    "                            max_depth = int(best_params['params']['max_depth']),\n",
    "                            max_features = int(best_params['params']['max_features']))\n",
    "\n",
    "rf.fit(X_train, y_train)\n",
    " \n",
    "y_pred = rf.predict(X_test)"
   ]
  },
  {
   "cell_type": "code",
   "execution_count": 42,
   "id": "31757582",
   "metadata": {},
   "outputs": [
    {
     "data": {
      "image/png": "[encoded data removed]",
      "text/plain": [
       "<Figure size 432x288 with 2 Axes>"
      ]
     },
     "metadata": {
      "needs_background": "light"
     },
     "output_type": "display_data"
    }
   ],
   "source": [
    "sns.heatmap(confusion_matrix(y_test, y_pred), annot=True)\n",
    "plt.xlabel('Predicted label')\n",
    "plt.ylabel('Actual label')\n",
    "plt.title('Confusion Matrix for Random Forest Classifier')\n",
    "plt.show();"
   ]
  },
  {
   "cell_type": "markdown",
   "id": "718d97b0",
   "metadata": {},
   "source": [
    "The model's performance on the test set looks pretty good at this point (f1 = ~.67), although it could always be improved by additional rounds of Bayesian Optimization. As a final step in the analysis, we'll look at the importance of the various features for predicting retention. "
   ]
  },
  {
   "cell_type": "code",
   "execution_count": 45,
   "id": "3ac505c6",
   "metadata": {},
   "outputs": [],
   "source": [
    "result = permutation_importance(rf, X_test, y_test, n_repeats=10, random_state=42)"
   ]
  },
  {
   "cell_type": "code",
   "execution_count": 57,
   "id": "9cbc58d6",
   "metadata": {},
   "outputs": [
    {
     "data": {
      "image/png": "[encoded data removed]",
      "text/plain": [
       "<Figure size 864x504 with 1 Axes>"
      ]
     },
     "metadata": {
      "needs_background": "light"
     },
     "output_type": "display_data"
    }
   ],
   "source": [
    "rf_importances = pd.Series(result.importances_mean, index=X.columns).sort_values(ascending=False)\n",
    "\n",
    "fig, ax = plt.subplots(figsize=(12, 7))\n",
    "rf_importances.plot.bar(yerr=result.importances_std, ax=ax)\n",
    "ax.set_title(\"Feature Importances using Permutations\")\n",
    "ax.set_ylabel(\"Mean decrease in accuracy\")\n",
    "plt.plot();"
   ]
  },
  {
   "cell_type": "markdown",
   "id": "9788eaf8",
   "metadata": {},
   "source": [
    "The seven most important features of the model are location, percentage of weekday travel, average rating by driver, type of phone, surge percentage, Ultimate Black status, and the number of trips in the first 30 days. These results suggest five directions for further investigation. \n",
    "\n",
    "First, inhabitants of King's Landing were more likely to remain customers than their counterparts in Winterfell and Astapor (~62% vs ~35% and ~25% respectively). But what's driving this difference? Are there fewer drivers in Winterfell and Astapor, making it more difficult for customers to find a ride? Or are the drivers in these cities particularly rude, turning people off of the service? \n",
    "\n",
    "Second, iPhone users were more than twice as likely as Android owners to continue using Ultimate after six months (~45% vs ~21%). This discrepancy could indicate that the Android version of the Ultimate app is difficult to use. \n",
    "\n",
    "Third, average rating by driver played an important role in retention, with lower rated customers desisting more often than their more highly rated counterparts. Perhaps these riders felt slighted by a low rating and gave up on the service. If that's the case, it might make sense to remove the ability of drivers to rate their riders.    \n",
    "\n",
    "Fourth, loyal customers tended to travel slightly less often on weekdays and during surge periods. These differences could indicate that Ultimate's surge pricing model is a little too aggressive and is driving away customers who rely on ride shares during the week.  \n",
    "\n",
    "Fifth, the role of Ultimate Black status and the number of trips in the first 30 days represents something of a chicken and egg problem. Do customers sign up for Ultimate Black because they intend to remain customers (i.e., buy-in) or do they remain customers because they signed up for Ultimate Black (i.e., sunk cost fallacy)? Similarly, do users take a lot of trips in the first 30 days because they enjoy the service and intend to keep it, or do they become habituated to Ultimate by frequent use? If the latter is true in either case, we could encourage users to sign up for Ultimate Black and/or take more trips in their first 30 days by offering an initial discount.  "
   ]
  }
 ],
 "metadata": {
  "kernelspec": {
   "display_name": "Python 3 (ipykernel)",
   "language": "python",
   "name": "python3"
  },
  "language_info": {
   "codemirror_mode": {
    "name": "ipython",
    "version": 3
   },
   "file_extension": ".py",
   "mimetype": "text/x-python",
   "name": "python",
   "nbconvert_exporter": "python",
   "pygments_lexer": "ipython3",
   "version": "3.9.6"
  }
 },
 "nbformat": 4,
 "nbformat_minor": 5
}
